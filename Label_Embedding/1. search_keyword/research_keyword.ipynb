{
 "cells": [
  {
   "cell_type": "code",
   "execution_count": 1,
   "metadata": {},
   "outputs": [],
   "source": [
    "import pandas as pd\n",
    "import itertools"
   ]
  },
  {
   "cell_type": "code",
   "execution_count": 2,
   "metadata": {},
   "outputs": [],
   "source": [
    "data = pd.read_excel('./연구 키워드.xlsx')"
   ]
  },
  {
   "cell_type": "code",
   "execution_count": 3,
   "metadata": {},
   "outputs": [
    {
     "data": {
      "text/html": [
       "<div>\n",
       "<style scoped>\n",
       "    .dataframe tbody tr th:only-of-type {\n",
       "        vertical-align: middle;\n",
       "    }\n",
       "\n",
       "    .dataframe tbody tr th {\n",
       "        vertical-align: top;\n",
       "    }\n",
       "\n",
       "    .dataframe thead th {\n",
       "        text-align: right;\n",
       "    }\n",
       "</style>\n",
       "<table border=\"1\" class=\"dataframe\">\n",
       "  <thead>\n",
       "    <tr style=\"text-align: right;\">\n",
       "      <th></th>\n",
       "      <th>num</th>\n",
       "      <th>분야</th>\n",
       "      <th>연도</th>\n",
       "      <th>분류</th>\n",
       "      <th>키워드</th>\n",
       "    </tr>\n",
       "  </thead>\n",
       "  <tbody>\n",
       "    <tr>\n",
       "      <th>0</th>\n",
       "      <td>81</td>\n",
       "      <td>인문과학</td>\n",
       "      <td>2020</td>\n",
       "      <td>연구</td>\n",
       "      <td>집단미술치료\\n한국어교육\\nChina\\n中國\\n중국\\n＆#65378\\nGroup a...</td>\n",
       "    </tr>\n",
       "    <tr>\n",
       "      <th>1</th>\n",
       "      <td>82</td>\n",
       "      <td>사회과학</td>\n",
       "      <td>2020</td>\n",
       "      <td>연구</td>\n",
       "      <td>직무만족\\n우울\\n질적 연구\\n신뢰\\nSatisfaction\\nChina\\nTrus...</td>\n",
       "    </tr>\n",
       "    <tr>\n",
       "      <th>2</th>\n",
       "      <td>83</td>\n",
       "      <td>공학</td>\n",
       "      <td>2020</td>\n",
       "      <td>연구</td>\n",
       "      <td>Deep learning\\n딥 러닝\\nDeep Learning\\ndeep learn...</td>\n",
       "    </tr>\n",
       "    <tr>\n",
       "      <th>3</th>\n",
       "      <td>84</td>\n",
       "      <td>자연과학</td>\n",
       "      <td>2020</td>\n",
       "      <td>연구</td>\n",
       "      <td>rice\\nbreeding\\nBreeding\\ndogs\\nresistance\\n신뢰...</td>\n",
       "    </tr>\n",
       "    <tr>\n",
       "      <th>4</th>\n",
       "      <td>85</td>\n",
       "      <td>교육학</td>\n",
       "      <td>2020</td>\n",
       "      <td>연구</td>\n",
       "      <td>대학생\\n간호대학생\\n연구 동향\\n유아\\n예비 유아교사\\n초등학생\\n유아교사\\n고등...</td>\n",
       "    </tr>\n",
       "    <tr>\n",
       "      <th>5</th>\n",
       "      <td>86</td>\n",
       "      <td>의약학</td>\n",
       "      <td>2020</td>\n",
       "      <td>연구</td>\n",
       "      <td>Depression\\nStroke\\nIntraocular pressure\\n뇌졸중\\...</td>\n",
       "    </tr>\n",
       "    <tr>\n",
       "      <th>6</th>\n",
       "      <td>87</td>\n",
       "      <td>예술체육</td>\n",
       "      <td>2020</td>\n",
       "      <td>연구</td>\n",
       "      <td>Tae-kwondo\\n태권도\\n음악교육\\nmusic education\\n])\\nPe...</td>\n",
       "    </tr>\n",
       "    <tr>\n",
       "      <th>7</th>\n",
       "      <td>88</td>\n",
       "      <td>기타</td>\n",
       "      <td>2020</td>\n",
       "      <td>연구</td>\n",
       "      <td>대학생\\n우울\\nChina\\n인공지능\\n빅데이터\\n청소년\\n자기효능감\\nDepres...</td>\n",
       "    </tr>\n",
       "  </tbody>\n",
       "</table>\n",
       "</div>"
      ],
      "text/plain": [
       "   num    분야    연도  분류                                                키워드\n",
       "0   81  인문과학  2020  연구  집단미술치료\\n한국어교육\\nChina\\n中國\\n중국\\n＆#65378\\nGroup a...\n",
       "1   82  사회과학  2020  연구  직무만족\\n우울\\n질적 연구\\n신뢰\\nSatisfaction\\nChina\\nTrus...\n",
       "2   83    공학  2020  연구  Deep learning\\n딥 러닝\\nDeep Learning\\ndeep learn...\n",
       "3   84  자연과학  2020  연구  rice\\nbreeding\\nBreeding\\ndogs\\nresistance\\n신뢰...\n",
       "4   85   교육학  2020  연구  대학생\\n간호대학생\\n연구 동향\\n유아\\n예비 유아교사\\n초등학생\\n유아교사\\n고등...\n",
       "5   86   의약학  2020  연구  Depression\\nStroke\\nIntraocular pressure\\n뇌졸중\\...\n",
       "6   87  예술체육  2020  연구  Tae-kwondo\\n태권도\\n음악교육\\nmusic education\\n])\\nPe...\n",
       "7   88    기타  2020  연구  대학생\\n우울\\nChina\\n인공지능\\n빅데이터\\n청소년\\n자기효능감\\nDepres..."
      ]
     },
     "execution_count": 3,
     "metadata": {},
     "output_type": "execute_result"
    }
   ],
   "source": [
    "data"
   ]
  },
  {
   "cell_type": "markdown",
   "metadata": {},
   "source": [
    "# 전체 키워드"
   ]
  },
  {
   "cell_type": "code",
   "execution_count": null,
   "metadata": {},
   "outputs": [],
   "source": [
    "data['키워드']"
   ]
  },
  {
   "cell_type": "code",
   "execution_count": null,
   "metadata": {},
   "outputs": [],
   "source": [
    "keyword_list = []\n",
    "\n",
    "for keywords in data['키워드']:\n",
    "    tmp = keywords.split('\\n')\n",
    "    keyword_list.append(tmp)\n",
    "    print(tmp)"
   ]
  },
  {
   "cell_type": "code",
   "execution_count": null,
   "metadata": {},
   "outputs": [],
   "source": [
    "keyword_list"
   ]
  },
  {
   "cell_type": "code",
   "execution_count": null,
   "metadata": {},
   "outputs": [],
   "source": [
    "keyword_list_2 = list(itertools.chain(*keyword_list))\n",
    "keyword_list_2"
   ]
  },
  {
   "cell_type": "code",
   "execution_count": null,
   "metadata": {},
   "outputs": [],
   "source": [
    "keyword_list_3 = []\n",
    "\n",
    "for keywords in keyword_list_2:\n",
    "    tmp = keywords.split(', ')\n",
    "    keyword_list_3 = list(itertools.chain(keyword_list_3, tmp))\n",
    "    print(tmp)"
   ]
  },
  {
   "cell_type": "code",
   "execution_count": null,
   "metadata": {},
   "outputs": [],
   "source": [
    "keyword_list_3"
   ]
  },
  {
   "cell_type": "code",
   "execution_count": null,
   "metadata": {},
   "outputs": [],
   "source": [
    "keyword_list_4 = []\n",
    "num = ['1', '2', '3', '4', '5', '6', '7', '8', '9']\n",
    "\n",
    "for keywords in keyword_list_3:\n",
    "    if keywords[0] in num:\n",
    "        tmp = keywords[3:]\n",
    "        keyword_list_4.append(tmp)\n",
    "        print(tmp)\n",
    "    else:\n",
    "        keyword_list_4.append(keywords)\n",
    "        print(keywords)"
   ]
  },
  {
   "cell_type": "code",
   "execution_count": null,
   "metadata": {},
   "outputs": [],
   "source": [
    "keyword_list_4"
   ]
  },
  {
   "cell_type": "code",
   "execution_count": null,
   "metadata": {},
   "outputs": [],
   "source": [
    "keyword_list_5 = []\n",
    "\n",
    "for keywords in keyword_list_4:\n",
    "    tmp = keywords.replace(' ', '')\n",
    "    print(tmp)\n",
    "    keyword_list_5.append(tmp)"
   ]
  },
  {
   "cell_type": "code",
   "execution_count": null,
   "metadata": {},
   "outputs": [],
   "source": [
    "keyword_list_6 = []\n",
    "\n",
    "for keywords in keyword_list_5:\n",
    "    tmp = keywords.replace(\"'\", \"\").replace('\"', '').replace(\"‘\", \"\").replace(\"’\", \"\").replace(\"“\", \"\").replace(\"”\", \"\")\n",
    "    print(tmp)\n",
    "    keyword_list_6.append(tmp)"
   ]
  },
  {
   "cell_type": "code",
   "execution_count": null,
   "metadata": {},
   "outputs": [],
   "source": [
    "keyword_list_6"
   ]
  },
  {
   "cell_type": "code",
   "execution_count": null,
   "metadata": {},
   "outputs": [],
   "source": []
  },
  {
   "cell_type": "code",
   "execution_count": null,
   "metadata": {},
   "outputs": [],
   "source": [
    "from collections import Counter"
   ]
  },
  {
   "cell_type": "code",
   "execution_count": null,
   "metadata": {},
   "outputs": [],
   "source": [
    "word_count = Counter(keyword_list_6)\n",
    "word_count"
   ]
  },
  {
   "cell_type": "code",
   "execution_count": null,
   "metadata": {},
   "outputs": [],
   "source": [
    "word_count_1439 = word_count.most_common()\n",
    "word_count_1439"
   ]
  },
  {
   "cell_type": "code",
   "execution_count": null,
   "metadata": {},
   "outputs": [],
   "source": [
    "output_file_name = 'word_count_1439.txt'\n",
    "\n",
    "with open(output_file_name, \"w\", encoding=\"utf-8\") as output_file:\n",
    "    for word, count in word_count_1439:\n",
    "        print(\"{}\\t{}\".format(word, count), file=output_file)\n",
    "        print(\"{}\\t{}\".format(word, count))"
   ]
  },
  {
   "cell_type": "code",
   "execution_count": null,
   "metadata": {},
   "outputs": [],
   "source": [
    "len(keyword_list_6)"
   ]
  },
  {
   "cell_type": "code",
   "execution_count": null,
   "metadata": {},
   "outputs": [],
   "source": [
    "word_count_170 = word_count.most_common(170)\n",
    "word_count_170"
   ]
  },
  {
   "cell_type": "code",
   "execution_count": null,
   "metadata": {},
   "outputs": [],
   "source": [
    "output_file_name = 'word_count_170.txt'\n",
    "\n",
    "with open(output_file_name, \"w\", encoding=\"utf-8\") as output_file:\n",
    "    for word, count in word_count_170:\n",
    "        print(\"{}\\t{}\".format(word, count), file=output_file)\n",
    "        print(\"{}\\t{}\".format(word, count))"
   ]
  },
  {
   "cell_type": "code",
   "execution_count": null,
   "metadata": {},
   "outputs": [],
   "source": [
    "import matplotlib.pyplot as plt\n",
    "from wordcloud import WordCloud\n",
    "from PIL import Image"
   ]
  },
  {
   "cell_type": "code",
   "execution_count": null,
   "metadata": {},
   "outputs": [],
   "source": [
    "word_cloud_all = {}\n",
    "    \n",
    "with open('./word_count_170.txt', \"r\", encoding=\"utf-8\") as input_file:\n",
    "    for line_num, line in enumerate(input_file):\n",
    "        line = line.strip()\n",
    "        cols = line.split(\"\\t\")\n",
    "        data[cols[0]] = int(cols[1])\n",
    "\n",
    "wordcloud = WordCloud(max_font_size = 100, random_state = 42, background_color = \"white\", font_path = './font/NanumGothic.ttf')\n",
    "\n",
    "wc = wordcloud.generate_from_frequencies(word_cloud_all)\n",
    "\n",
    "plt.figure(figsize = (12, 12))\n",
    "plt.imshow(wc, interpolation = \"bilinear\")                      \n",
    "plt.axis(\"off\")\n",
    "plt.show()"
   ]
  },
  {
   "cell_type": "markdown",
   "metadata": {},
   "source": [
    "# 인문과학"
   ]
  },
  {
   "cell_type": "code",
   "execution_count": 4,
   "metadata": {},
   "outputs": [
    {
     "data": {
      "text/plain": [
       "0    집단미술치료\\n한국어교육\\nChina\\n中國\\n중국\\n＆#65378\\nGroup a...\n",
       "Name: 키워드, dtype: object"
      ]
     },
     "execution_count": 4,
     "metadata": {},
     "output_type": "execute_result"
    }
   ],
   "source": [
    "data[data['분야']=='인문과학']['키워드']"
   ]
  },
  {
   "cell_type": "code",
   "execution_count": 5,
   "metadata": {},
   "outputs": [
    {
     "name": "stdout",
     "output_type": "stream",
     "text": [
      "['집단미술치료', '한국어교육', 'China', '中國', '중국', '＆#65378', 'Group art therapy', '미술치료', '우울', '])', 'Art Therapy', '미학', 'Depression', '자유', '칸트']\n"
     ]
    }
   ],
   "source": [
    "keyword_list = []\n",
    "\n",
    "for keywords in data[data['분야']=='인문과학']['키워드']:\n",
    "    tmp = keywords.split('\\n')\n",
    "    keyword_list.append(tmp)\n",
    "    print(tmp)"
   ]
  },
  {
   "cell_type": "code",
   "execution_count": 6,
   "metadata": {},
   "outputs": [
    {
     "data": {
      "text/plain": [
       "[['집단미술치료',\n",
       "  '한국어교육',\n",
       "  'China',\n",
       "  '中國',\n",
       "  '중국',\n",
       "  '＆#65378',\n",
       "  'Group art therapy',\n",
       "  '미술치료',\n",
       "  '우울',\n",
       "  '])',\n",
       "  'Art Therapy',\n",
       "  '미학',\n",
       "  'Depression',\n",
       "  '자유',\n",
       "  '칸트']]"
      ]
     },
     "execution_count": 6,
     "metadata": {},
     "output_type": "execute_result"
    }
   ],
   "source": [
    "keyword_list"
   ]
  },
  {
   "cell_type": "code",
   "execution_count": 7,
   "metadata": {},
   "outputs": [
    {
     "name": "stdout",
     "output_type": "stream",
     "text": [
      "집단미술치료\n"
     ]
    }
   ],
   "source": [
    "Humanities_keyword = []\n",
    "\n",
    "for i in keyword_list:\n",
    "    Humanities_keyword.append(i[0])\n",
    "    print(i[0])"
   ]
  },
  {
   "cell_type": "code",
   "execution_count": 8,
   "metadata": {},
   "outputs": [
    {
     "data": {
      "text/plain": [
       "['집단미술치료']"
      ]
     },
     "execution_count": 8,
     "metadata": {},
     "output_type": "execute_result"
    }
   ],
   "source": [
    "Humanities_keyword"
   ]
  },
  {
   "cell_type": "code",
   "execution_count": 9,
   "metadata": {},
   "outputs": [
    {
     "data": {
      "text/plain": [
       "1"
      ]
     },
     "execution_count": 9,
     "metadata": {},
     "output_type": "execute_result"
    }
   ],
   "source": [
    "len(Humanities_keyword)"
   ]
  },
  {
   "cell_type": "code",
   "execution_count": 10,
   "metadata": {},
   "outputs": [
    {
     "data": {
      "text/plain": [
       "{'집단미술치료'}"
      ]
     },
     "execution_count": 10,
     "metadata": {},
     "output_type": "execute_result"
    }
   ],
   "source": [
    "set(Humanities_keyword)"
   ]
  },
  {
   "cell_type": "code",
   "execution_count": 11,
   "metadata": {},
   "outputs": [
    {
     "data": {
      "text/plain": [
       "1"
      ]
     },
     "execution_count": 11,
     "metadata": {},
     "output_type": "execute_result"
    }
   ],
   "source": [
    "len(set(Humanities_keyword))"
   ]
  },
  {
   "cell_type": "markdown",
   "metadata": {},
   "source": [
    "# 사회과학"
   ]
  },
  {
   "cell_type": "code",
   "execution_count": 12,
   "metadata": {},
   "outputs": [
    {
     "data": {
      "text/plain": [
       "1    직무만족\\n우울\\n질적 연구\\n신뢰\\nSatisfaction\\nChina\\nTrus...\n",
       "Name: 키워드, dtype: object"
      ]
     },
     "execution_count": 12,
     "metadata": {},
     "output_type": "execute_result"
    }
   ],
   "source": [
    "data[data['분야']=='사회과학']['키워드']"
   ]
  },
  {
   "cell_type": "code",
   "execution_count": 13,
   "metadata": {},
   "outputs": [
    {
     "name": "stdout",
     "output_type": "stream",
     "text": [
      "['직무만족', '우울', '질적 연구', '신뢰', 'Satisfaction', 'China', 'Trust', '조직몰입', '노인', 'depression', '대학생', '사회적지지']\n"
     ]
    }
   ],
   "source": [
    "keyword_list = []\n",
    "\n",
    "for keywords in data[data['분야']=='사회과학']['키워드']:\n",
    "    tmp = keywords.split('\\n')\n",
    "    keyword_list.append(tmp)\n",
    "    print(tmp)"
   ]
  },
  {
   "cell_type": "code",
   "execution_count": 14,
   "metadata": {},
   "outputs": [
    {
     "data": {
      "text/plain": [
       "[['직무만족',\n",
       "  '우울',\n",
       "  '질적 연구',\n",
       "  '신뢰',\n",
       "  'Satisfaction',\n",
       "  'China',\n",
       "  'Trust',\n",
       "  '조직몰입',\n",
       "  '노인',\n",
       "  'depression',\n",
       "  '대학생',\n",
       "  '사회적지지']]"
      ]
     },
     "execution_count": 14,
     "metadata": {},
     "output_type": "execute_result"
    }
   ],
   "source": [
    "keyword_list"
   ]
  },
  {
   "cell_type": "code",
   "execution_count": 15,
   "metadata": {},
   "outputs": [
    {
     "name": "stdout",
     "output_type": "stream",
     "text": [
      "직무만족\n"
     ]
    }
   ],
   "source": [
    "Social_keyword = []\n",
    "\n",
    "for i in keyword_list:\n",
    "    Social_keyword.append(i[0])\n",
    "    print(i[0])"
   ]
  },
  {
   "cell_type": "code",
   "execution_count": 16,
   "metadata": {},
   "outputs": [
    {
     "data": {
      "text/plain": [
       "['직무만족']"
      ]
     },
     "execution_count": 16,
     "metadata": {},
     "output_type": "execute_result"
    }
   ],
   "source": [
    "Social_keyword"
   ]
  },
  {
   "cell_type": "code",
   "execution_count": 17,
   "metadata": {},
   "outputs": [
    {
     "data": {
      "text/plain": [
       "1"
      ]
     },
     "execution_count": 17,
     "metadata": {},
     "output_type": "execute_result"
    }
   ],
   "source": [
    "len(Social_keyword)"
   ]
  },
  {
   "cell_type": "code",
   "execution_count": 18,
   "metadata": {},
   "outputs": [
    {
     "data": {
      "text/plain": [
       "{'직무만족'}"
      ]
     },
     "execution_count": 18,
     "metadata": {},
     "output_type": "execute_result"
    }
   ],
   "source": [
    "set(Social_keyword)"
   ]
  },
  {
   "cell_type": "code",
   "execution_count": 19,
   "metadata": {},
   "outputs": [
    {
     "data": {
      "text/plain": [
       "1"
      ]
     },
     "execution_count": 19,
     "metadata": {},
     "output_type": "execute_result"
    }
   ],
   "source": [
    "len(set(Social_keyword))"
   ]
  },
  {
   "cell_type": "markdown",
   "metadata": {},
   "source": [
    "# 공학"
   ]
  },
  {
   "cell_type": "code",
   "execution_count": 20,
   "metadata": {},
   "outputs": [
    {
     "data": {
      "text/plain": [
       "2    Deep learning\\n딥 러닝\\nDeep Learning\\ndeep learn...\n",
       "Name: 키워드, dtype: object"
      ]
     },
     "execution_count": 20,
     "metadata": {},
     "output_type": "execute_result"
    }
   ],
   "source": [
    "data[data['분야']=='공학']['키워드']"
   ]
  },
  {
   "cell_type": "code",
   "execution_count": 21,
   "metadata": {},
   "outputs": [
    {
     "name": "stdout",
     "output_type": "stream",
     "text": [
      "['Deep learning', '딥 러닝', 'Deep Learning', 'deep learning', '이산화탄소', 'machine learning', 'Engineering education', 'Object Detection', 'Machine learning', 'Machine Learning', 'hydrogel', '인공지능', '플랫폼', '사물인터넷', '미세먼지', 'IoT', 'GIS', '흡착']\n"
     ]
    }
   ],
   "source": [
    "keyword_list = []\n",
    "\n",
    "for keywords in data[data['분야']=='공학']['키워드']:\n",
    "    tmp = keywords.split('\\n')\n",
    "    keyword_list.append(tmp)\n",
    "    print(tmp)"
   ]
  },
  {
   "cell_type": "code",
   "execution_count": 22,
   "metadata": {},
   "outputs": [
    {
     "data": {
      "text/plain": [
       "[['Deep learning',\n",
       "  '딥 러닝',\n",
       "  'Deep Learning',\n",
       "  'deep learning',\n",
       "  '이산화탄소',\n",
       "  'machine learning',\n",
       "  'Engineering education',\n",
       "  'Object Detection',\n",
       "  'Machine learning',\n",
       "  'Machine Learning',\n",
       "  'hydrogel',\n",
       "  '인공지능',\n",
       "  '플랫폼',\n",
       "  '사물인터넷',\n",
       "  '미세먼지',\n",
       "  'IoT',\n",
       "  'GIS',\n",
       "  '흡착']]"
      ]
     },
     "execution_count": 22,
     "metadata": {},
     "output_type": "execute_result"
    }
   ],
   "source": [
    "keyword_list"
   ]
  },
  {
   "cell_type": "code",
   "execution_count": 23,
   "metadata": {},
   "outputs": [
    {
     "name": "stdout",
     "output_type": "stream",
     "text": [
      "Deep learning\n"
     ]
    }
   ],
   "source": [
    "Engineering_keyword = []\n",
    "\n",
    "for i in keyword_list:\n",
    "    Engineering_keyword.append(i[0])\n",
    "    print(i[0])"
   ]
  },
  {
   "cell_type": "code",
   "execution_count": 24,
   "metadata": {},
   "outputs": [
    {
     "data": {
      "text/plain": [
       "['Deep learning']"
      ]
     },
     "execution_count": 24,
     "metadata": {},
     "output_type": "execute_result"
    }
   ],
   "source": [
    "Engineering_keyword"
   ]
  },
  {
   "cell_type": "code",
   "execution_count": 25,
   "metadata": {},
   "outputs": [
    {
     "data": {
      "text/plain": [
       "1"
      ]
     },
     "execution_count": 25,
     "metadata": {},
     "output_type": "execute_result"
    }
   ],
   "source": [
    "len(Engineering_keyword)"
   ]
  },
  {
   "cell_type": "code",
   "execution_count": 26,
   "metadata": {},
   "outputs": [
    {
     "data": {
      "text/plain": [
       "{'Deep learning'}"
      ]
     },
     "execution_count": 26,
     "metadata": {},
     "output_type": "execute_result"
    }
   ],
   "source": [
    "set(Engineering_keyword)"
   ]
  },
  {
   "cell_type": "code",
   "execution_count": 27,
   "metadata": {},
   "outputs": [
    {
     "data": {
      "text/plain": [
       "1"
      ]
     },
     "execution_count": 27,
     "metadata": {},
     "output_type": "execute_result"
    }
   ],
   "source": [
    "len(set(Engineering_keyword))"
   ]
  },
  {
   "cell_type": "markdown",
   "metadata": {},
   "source": [
    "# 자연과학"
   ]
  },
  {
   "cell_type": "code",
   "execution_count": 28,
   "metadata": {},
   "outputs": [
    {
     "data": {
      "text/plain": [
       "3    rice\\nbreeding\\nBreeding\\ndogs\\nresistance\\n신뢰...\n",
       "Name: 키워드, dtype: object"
      ]
     },
     "execution_count": 28,
     "metadata": {},
     "output_type": "execute_result"
    }
   ],
   "source": [
    "data[data['분야']=='자연과학']['키워드']"
   ]
  },
  {
   "cell_type": "code",
   "execution_count": 29,
   "metadata": {},
   "outputs": [
    {
     "name": "stdout",
     "output_type": "stream",
     "text": [
      "['rice', 'breeding', 'Breeding', 'dogs', 'resistance', '신뢰도', 'dog', '구조 방정식 모형', 'variety', 'Rice', '만족도']\n"
     ]
    }
   ],
   "source": [
    "keyword_list = []\n",
    "\n",
    "for keywords in data[data['분야']=='자연과학']['키워드']:\n",
    "    tmp = keywords.split('\\n')\n",
    "    keyword_list.append(tmp)\n",
    "    print(tmp)"
   ]
  },
  {
   "cell_type": "code",
   "execution_count": 30,
   "metadata": {},
   "outputs": [
    {
     "data": {
      "text/plain": [
       "[['rice',\n",
       "  'breeding',\n",
       "  'Breeding',\n",
       "  'dogs',\n",
       "  'resistance',\n",
       "  '신뢰도',\n",
       "  'dog',\n",
       "  '구조 방정식 모형',\n",
       "  'variety',\n",
       "  'Rice',\n",
       "  '만족도']]"
      ]
     },
     "execution_count": 30,
     "metadata": {},
     "output_type": "execute_result"
    }
   ],
   "source": [
    "keyword_list"
   ]
  },
  {
   "cell_type": "code",
   "execution_count": 31,
   "metadata": {},
   "outputs": [
    {
     "name": "stdout",
     "output_type": "stream",
     "text": [
      "rice\n"
     ]
    }
   ],
   "source": [
    "Natural_keyword = []\n",
    "\n",
    "for i in keyword_list:\n",
    "    Natural_keyword.append(i[0])\n",
    "    print(i[0])"
   ]
  },
  {
   "cell_type": "code",
   "execution_count": 32,
   "metadata": {},
   "outputs": [
    {
     "data": {
      "text/plain": [
       "['rice']"
      ]
     },
     "execution_count": 32,
     "metadata": {},
     "output_type": "execute_result"
    }
   ],
   "source": [
    "Natural_keyword"
   ]
  },
  {
   "cell_type": "code",
   "execution_count": 33,
   "metadata": {},
   "outputs": [
    {
     "data": {
      "text/plain": [
       "1"
      ]
     },
     "execution_count": 33,
     "metadata": {},
     "output_type": "execute_result"
    }
   ],
   "source": [
    "len(Natural_keyword)"
   ]
  },
  {
   "cell_type": "code",
   "execution_count": 34,
   "metadata": {},
   "outputs": [
    {
     "data": {
      "text/plain": [
       "{'rice'}"
      ]
     },
     "execution_count": 34,
     "metadata": {},
     "output_type": "execute_result"
    }
   ],
   "source": [
    "set(Natural_keyword)"
   ]
  },
  {
   "cell_type": "code",
   "execution_count": 35,
   "metadata": {},
   "outputs": [
    {
     "data": {
      "text/plain": [
       "1"
      ]
     },
     "execution_count": 35,
     "metadata": {},
     "output_type": "execute_result"
    }
   ],
   "source": [
    "len(set(Natural_keyword))"
   ]
  },
  {
   "cell_type": "markdown",
   "metadata": {},
   "source": [
    "# 교육학"
   ]
  },
  {
   "cell_type": "code",
   "execution_count": 36,
   "metadata": {},
   "outputs": [
    {
     "data": {
      "text/plain": [
       "4    대학생\\n간호대학생\\n연구 동향\\n유아\\n예비 유아교사\\n초등학생\\n유아교사\\n고등...\n",
       "Name: 키워드, dtype: object"
      ]
     },
     "execution_count": 36,
     "metadata": {},
     "output_type": "execute_result"
    }
   ],
   "source": [
    "data[data['분야']=='교육학']['키워드']"
   ]
  },
  {
   "cell_type": "code",
   "execution_count": 37,
   "metadata": {},
   "outputs": [
    {
     "name": "stdout",
     "output_type": "stream",
     "text": [
      "['대학생', '간호대학생', '연구 동향', '유아', '예비 유아교사', '초등학생', '유아교사', '고등학생', '학업성취도', '2015 개정 교육과정', '중학생', 'academic achievement']\n"
     ]
    }
   ],
   "source": [
    "keyword_list = []\n",
    "\n",
    "for keywords in data[data['분야']=='교육학']['키워드']:\n",
    "    tmp = keywords.split('\\n')\n",
    "    keyword_list.append(tmp)\n",
    "    print(tmp)"
   ]
  },
  {
   "cell_type": "code",
   "execution_count": 38,
   "metadata": {},
   "outputs": [
    {
     "data": {
      "text/plain": [
       "[['대학생',\n",
       "  '간호대학생',\n",
       "  '연구 동향',\n",
       "  '유아',\n",
       "  '예비 유아교사',\n",
       "  '초등학생',\n",
       "  '유아교사',\n",
       "  '고등학생',\n",
       "  '학업성취도',\n",
       "  '2015 개정 교육과정',\n",
       "  '중학생',\n",
       "  'academic achievement']]"
      ]
     },
     "execution_count": 38,
     "metadata": {},
     "output_type": "execute_result"
    }
   ],
   "source": [
    "keyword_list"
   ]
  },
  {
   "cell_type": "code",
   "execution_count": 39,
   "metadata": {},
   "outputs": [
    {
     "name": "stdout",
     "output_type": "stream",
     "text": [
      "대학생\n"
     ]
    }
   ],
   "source": [
    "education_keyword = []\n",
    "\n",
    "for i in keyword_list:\n",
    "    education_keyword.append(i[0])\n",
    "    print(i[0])"
   ]
  },
  {
   "cell_type": "code",
   "execution_count": 40,
   "metadata": {},
   "outputs": [
    {
     "data": {
      "text/plain": [
       "['대학생']"
      ]
     },
     "execution_count": 40,
     "metadata": {},
     "output_type": "execute_result"
    }
   ],
   "source": [
    "education_keyword"
   ]
  },
  {
   "cell_type": "code",
   "execution_count": 41,
   "metadata": {},
   "outputs": [
    {
     "data": {
      "text/plain": [
       "1"
      ]
     },
     "execution_count": 41,
     "metadata": {},
     "output_type": "execute_result"
    }
   ],
   "source": [
    "len(education_keyword)"
   ]
  },
  {
   "cell_type": "code",
   "execution_count": 42,
   "metadata": {},
   "outputs": [
    {
     "data": {
      "text/plain": [
       "{'대학생'}"
      ]
     },
     "execution_count": 42,
     "metadata": {},
     "output_type": "execute_result"
    }
   ],
   "source": [
    "set(education_keyword)"
   ]
  },
  {
   "cell_type": "code",
   "execution_count": 43,
   "metadata": {},
   "outputs": [
    {
     "data": {
      "text/plain": [
       "1"
      ]
     },
     "execution_count": 43,
     "metadata": {},
     "output_type": "execute_result"
    }
   ],
   "source": [
    "len(set(education_keyword))"
   ]
  },
  {
   "cell_type": "markdown",
   "metadata": {},
   "source": [
    "# 의약학"
   ]
  },
  {
   "cell_type": "code",
   "execution_count": 44,
   "metadata": {},
   "outputs": [
    {
     "data": {
      "text/plain": [
       "5    Depression\\nStroke\\nIntraocular pressure\\n뇌졸중\\...\n",
       "Name: 키워드, dtype: object"
      ]
     },
     "execution_count": 44,
     "metadata": {},
     "output_type": "execute_result"
    }
   ],
   "source": [
    "data[data['분야']=='의약학']['키워드']"
   ]
  },
  {
   "cell_type": "code",
   "execution_count": 45,
   "metadata": {},
   "outputs": [
    {
     "name": "stdout",
     "output_type": "stream",
     "text": [
      "['Depression', 'Stroke', 'Intraocular pressure', '뇌졸중', 'Anxiety', 'Quality-of-life', 'Aged', 'Diagnosis', 'Nursing homes', 'Children', 'Apopto-sis', 'Schizophrenia', 'Elderly', '노인']\n"
     ]
    }
   ],
   "source": [
    "keyword_list = []\n",
    "\n",
    "for keywords in data[data['분야']=='의약학']['키워드']:\n",
    "    tmp = keywords.split('\\n')\n",
    "    keyword_list.append(tmp)\n",
    "    print(tmp)"
   ]
  },
  {
   "cell_type": "code",
   "execution_count": 46,
   "metadata": {},
   "outputs": [
    {
     "data": {
      "text/plain": [
       "[['Depression',\n",
       "  'Stroke',\n",
       "  'Intraocular pressure',\n",
       "  '뇌졸중',\n",
       "  'Anxiety',\n",
       "  'Quality-of-life',\n",
       "  'Aged',\n",
       "  'Diagnosis',\n",
       "  'Nursing homes',\n",
       "  'Children',\n",
       "  'Apopto-sis',\n",
       "  'Schizophrenia',\n",
       "  'Elderly',\n",
       "  '노인']]"
      ]
     },
     "execution_count": 46,
     "metadata": {},
     "output_type": "execute_result"
    }
   ],
   "source": [
    "keyword_list"
   ]
  },
  {
   "cell_type": "code",
   "execution_count": 47,
   "metadata": {},
   "outputs": [
    {
     "name": "stdout",
     "output_type": "stream",
     "text": [
      "Depression\n"
     ]
    }
   ],
   "source": [
    "Medicine_keyword = []\n",
    "\n",
    "for i in keyword_list:\n",
    "    Medicine_keyword.append(i[0])\n",
    "    print(i[0])"
   ]
  },
  {
   "cell_type": "code",
   "execution_count": 48,
   "metadata": {},
   "outputs": [
    {
     "data": {
      "text/plain": [
       "['Depression']"
      ]
     },
     "execution_count": 48,
     "metadata": {},
     "output_type": "execute_result"
    }
   ],
   "source": [
    "Medicine_keyword"
   ]
  },
  {
   "cell_type": "code",
   "execution_count": 49,
   "metadata": {},
   "outputs": [
    {
     "data": {
      "text/plain": [
       "1"
      ]
     },
     "execution_count": 49,
     "metadata": {},
     "output_type": "execute_result"
    }
   ],
   "source": [
    "len(Medicine_keyword)"
   ]
  },
  {
   "cell_type": "code",
   "execution_count": 50,
   "metadata": {},
   "outputs": [
    {
     "data": {
      "text/plain": [
       "{'Depression'}"
      ]
     },
     "execution_count": 50,
     "metadata": {},
     "output_type": "execute_result"
    }
   ],
   "source": [
    "set(Medicine_keyword)"
   ]
  },
  {
   "cell_type": "code",
   "execution_count": 51,
   "metadata": {},
   "outputs": [
    {
     "data": {
      "text/plain": [
       "1"
      ]
     },
     "execution_count": 51,
     "metadata": {},
     "output_type": "execute_result"
    }
   ],
   "source": [
    "len(set(Medicine_keyword))"
   ]
  },
  {
   "cell_type": "markdown",
   "metadata": {},
   "source": [
    "# 예술체육"
   ]
  },
  {
   "cell_type": "code",
   "execution_count": 52,
   "metadata": {},
   "outputs": [
    {
     "data": {
      "text/plain": [
       "6    Tae-kwondo\\n태권도\\n음악교육\\nmusic education\\n])\\nPe...\n",
       "Name: 키워드, dtype: object"
      ]
     },
     "execution_count": 52,
     "metadata": {},
     "output_type": "execute_result"
    }
   ],
   "source": [
    "data[data['분야']=='예술체육']['키워드']"
   ]
  },
  {
   "cell_type": "code",
   "execution_count": 53,
   "metadata": {},
   "outputs": [
    {
     "name": "stdout",
     "output_type": "stream",
     "text": [
      "['Tae-kwondo', '태권도', '음악교육', 'music education', '])', 'Perceived Performance', '미술교과서', '공예', '융합 교육', '운동몰입', '공간']\n"
     ]
    }
   ],
   "source": [
    "keyword_list = []\n",
    "\n",
    "for keywords in data[data['분야']=='예술체육']['키워드']:\n",
    "    tmp = keywords.split('\\n')\n",
    "    keyword_list.append(tmp)\n",
    "    print(tmp)"
   ]
  },
  {
   "cell_type": "code",
   "execution_count": 54,
   "metadata": {},
   "outputs": [
    {
     "data": {
      "text/plain": [
       "[['Tae-kwondo',\n",
       "  '태권도',\n",
       "  '음악교육',\n",
       "  'music education',\n",
       "  '])',\n",
       "  'Perceived Performance',\n",
       "  '미술교과서',\n",
       "  '공예',\n",
       "  '융합 교육',\n",
       "  '운동몰입',\n",
       "  '공간']]"
      ]
     },
     "execution_count": 54,
     "metadata": {},
     "output_type": "execute_result"
    }
   ],
   "source": [
    "keyword_list"
   ]
  },
  {
   "cell_type": "code",
   "execution_count": 55,
   "metadata": {},
   "outputs": [
    {
     "name": "stdout",
     "output_type": "stream",
     "text": [
      "Tae-kwondo\n"
     ]
    }
   ],
   "source": [
    "Art_keyword = []\n",
    "\n",
    "for i in keyword_list:\n",
    "    Art_keyword.append(i[0])\n",
    "    print(i[0])"
   ]
  },
  {
   "cell_type": "code",
   "execution_count": 56,
   "metadata": {},
   "outputs": [
    {
     "data": {
      "text/plain": [
       "['Tae-kwondo']"
      ]
     },
     "execution_count": 56,
     "metadata": {},
     "output_type": "execute_result"
    }
   ],
   "source": [
    "Art_keyword"
   ]
  },
  {
   "cell_type": "code",
   "execution_count": 57,
   "metadata": {},
   "outputs": [
    {
     "data": {
      "text/plain": [
       "1"
      ]
     },
     "execution_count": 57,
     "metadata": {},
     "output_type": "execute_result"
    }
   ],
   "source": [
    "len(Art_keyword)"
   ]
  },
  {
   "cell_type": "code",
   "execution_count": 58,
   "metadata": {},
   "outputs": [
    {
     "data": {
      "text/plain": [
       "{'Tae-kwondo'}"
      ]
     },
     "execution_count": 58,
     "metadata": {},
     "output_type": "execute_result"
    }
   ],
   "source": [
    "set(Art_keyword)"
   ]
  },
  {
   "cell_type": "code",
   "execution_count": 59,
   "metadata": {},
   "outputs": [
    {
     "data": {
      "text/plain": [
       "1"
      ]
     },
     "execution_count": 59,
     "metadata": {},
     "output_type": "execute_result"
    }
   ],
   "source": [
    "len(set(Art_keyword))"
   ]
  },
  {
   "cell_type": "markdown",
   "metadata": {},
   "source": [
    "# 기타"
   ]
  },
  {
   "cell_type": "code",
   "execution_count": 60,
   "metadata": {},
   "outputs": [
    {
     "data": {
      "text/plain": [
       "7    대학생\\n우울\\nChina\\n인공지능\\n빅데이터\\n청소년\\n자기효능감\\nDepres...\n",
       "Name: 키워드, dtype: object"
      ]
     },
     "execution_count": 60,
     "metadata": {},
     "output_type": "execute_result"
    }
   ],
   "source": [
    "data[data['분야']=='기타']['키워드']"
   ]
  },
  {
   "cell_type": "code",
   "execution_count": 61,
   "metadata": {},
   "outputs": [
    {
     "name": "stdout",
     "output_type": "stream",
     "text": [
      "['대학생', '우울', 'China', '인공지능', '빅데이터', '청소년', '자기효능감', 'Depression', 'Satisfaction', '질적 연구']\n"
     ]
    }
   ],
   "source": [
    "keyword_list = []\n",
    "\n",
    "for keywords in data[data['분야']=='기타']['키워드']:\n",
    "    tmp = keywords.split('\\n')\n",
    "    keyword_list.append(tmp)\n",
    "    print(tmp)"
   ]
  },
  {
   "cell_type": "code",
   "execution_count": 62,
   "metadata": {},
   "outputs": [
    {
     "data": {
      "text/plain": [
       "[['대학생',\n",
       "  '우울',\n",
       "  'China',\n",
       "  '인공지능',\n",
       "  '빅데이터',\n",
       "  '청소년',\n",
       "  '자기효능감',\n",
       "  'Depression',\n",
       "  'Satisfaction',\n",
       "  '질적 연구']]"
      ]
     },
     "execution_count": 62,
     "metadata": {},
     "output_type": "execute_result"
    }
   ],
   "source": [
    "keyword_list"
   ]
  },
  {
   "cell_type": "code",
   "execution_count": 63,
   "metadata": {},
   "outputs": [
    {
     "name": "stdout",
     "output_type": "stream",
     "text": [
      "대학생\n"
     ]
    }
   ],
   "source": [
    "etc_keyword = []\n",
    "\n",
    "for i in keyword_list:\n",
    "    etc_keyword.append(i[0])\n",
    "    print(i[0])"
   ]
  },
  {
   "cell_type": "code",
   "execution_count": 64,
   "metadata": {},
   "outputs": [
    {
     "data": {
      "text/plain": [
       "['대학생']"
      ]
     },
     "execution_count": 64,
     "metadata": {},
     "output_type": "execute_result"
    }
   ],
   "source": [
    "etc_keyword"
   ]
  },
  {
   "cell_type": "code",
   "execution_count": 65,
   "metadata": {},
   "outputs": [
    {
     "data": {
      "text/plain": [
       "1"
      ]
     },
     "execution_count": 65,
     "metadata": {},
     "output_type": "execute_result"
    }
   ],
   "source": [
    "len(etc_keyword)"
   ]
  },
  {
   "cell_type": "code",
   "execution_count": 66,
   "metadata": {},
   "outputs": [
    {
     "data": {
      "text/plain": [
       "{'대학생'}"
      ]
     },
     "execution_count": 66,
     "metadata": {},
     "output_type": "execute_result"
    }
   ],
   "source": [
    "set(etc_keyword)"
   ]
  },
  {
   "cell_type": "code",
   "execution_count": 67,
   "metadata": {},
   "outputs": [
    {
     "data": {
      "text/plain": [
       "1"
      ]
     },
     "execution_count": 67,
     "metadata": {},
     "output_type": "execute_result"
    }
   ],
   "source": [
    "len(set(etc_keyword))"
   ]
  },
  {
   "cell_type": "code",
   "execution_count": null,
   "metadata": {},
   "outputs": [],
   "source": []
  },
  {
   "cell_type": "code",
   "execution_count": 68,
   "metadata": {},
   "outputs": [],
   "source": [
    "final = list(set(Art_keyword)) + list(set(Medicine_keyword)) + list(set(education_keyword)) + list(set(Natural_keyword)) + list(set(Engineering_keyword)) + list(set(Social_keyword)) + list(set(Humanities_keyword)) + list(set(etc_keyword))"
   ]
  },
  {
   "cell_type": "code",
   "execution_count": 69,
   "metadata": {},
   "outputs": [
    {
     "data": {
      "text/plain": [
       "['Tae-kwondo',\n",
       " 'Depression',\n",
       " '대학생',\n",
       " 'rice',\n",
       " 'Deep learning',\n",
       " '직무만족',\n",
       " '집단미술치료',\n",
       " '대학생']"
      ]
     },
     "execution_count": 69,
     "metadata": {},
     "output_type": "execute_result"
    }
   ],
   "source": [
    "final"
   ]
  },
  {
   "cell_type": "code",
   "execution_count": 70,
   "metadata": {},
   "outputs": [
    {
     "data": {
      "text/plain": [
       "8"
      ]
     },
     "execution_count": 70,
     "metadata": {},
     "output_type": "execute_result"
    }
   ],
   "source": [
    "len(final)"
   ]
  },
  {
   "cell_type": "code",
   "execution_count": 71,
   "metadata": {},
   "outputs": [
    {
     "data": {
      "text/plain": [
       "7"
      ]
     },
     "execution_count": 71,
     "metadata": {},
     "output_type": "execute_result"
    }
   ],
   "source": [
    "len(set(final))"
   ]
  },
  {
   "cell_type": "code",
   "execution_count": 72,
   "metadata": {},
   "outputs": [
    {
     "data": {
      "text/plain": [
       "7"
      ]
     },
     "execution_count": 72,
     "metadata": {},
     "output_type": "execute_result"
    }
   ],
   "source": [
    "final = list(set(final))\n",
    "len(final)"
   ]
  },
  {
   "cell_type": "code",
   "execution_count": 73,
   "metadata": {},
   "outputs": [],
   "source": [
    "with open('search_keyword.txt', 'w') as f:\n",
    "    for keyword in final:\n",
    "        f.write(keyword)\n",
    "        f.write('\\n')"
   ]
  },
  {
   "cell_type": "code",
   "execution_count": null,
   "metadata": {},
   "outputs": [],
   "source": []
  },
  {
   "cell_type": "code",
   "execution_count": null,
   "metadata": {},
   "outputs": [],
   "source": []
  }
 ],
 "metadata": {
  "kernelspec": {
   "display_name": "Python 3",
   "language": "python",
   "name": "python3"
  },
  "language_info": {
   "codemirror_mode": {
    "name": "ipython",
    "version": 3
   },
   "file_extension": ".py",
   "mimetype": "text/x-python",
   "name": "python",
   "nbconvert_exporter": "python",
   "pygments_lexer": "ipython3",
   "version": "3.7.9"
  }
 },
 "nbformat": 4,
 "nbformat_minor": 4
}
