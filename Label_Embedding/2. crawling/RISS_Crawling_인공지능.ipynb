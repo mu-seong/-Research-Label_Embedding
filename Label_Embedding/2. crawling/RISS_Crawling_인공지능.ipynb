{
 "cells": [
  {
   "cell_type": "code",
   "execution_count": 1,
   "metadata": {},
   "outputs": [],
   "source": [
    "import requests\n",
    "import re\n",
    "import time\n",
    "import lxml.html\n",
    "import openpyxl\n",
    "import pandas as pd\n",
    "\n",
    "from bs4 import BeautifulSoup\n",
    "from tqdm import tqdm"
   ]
  },
  {
   "cell_type": "code",
   "execution_count": 2,
   "metadata": {},
   "outputs": [],
   "source": [
    "custom_header = {\n",
    "    'referer' : 'http://www.riss.kr/index.do',\n",
    "    #'referer' : 'http://www.riss.kr/search/Search.do?isDetailSearch=N&searchGubun=true&viewYn=OP&queryText=&strQuery=%EC%9D%B8%EA%B3%B5%EC%A7%80%EB%8A%A5&exQuery=&exQueryText=&order=&onHanja=&strSort=&p_year1=&p_year2=&iStartCount=0&orderBy=&fsearchMethod=search&sflag=1&isFDetailSearch=N&pageNumber=1&resultKeyword=&fsearchSort=&fsearchOrder=&limiterList=&limiterListText=&facetList=&facetListText=&fsearchDB=&icate=bib_t&colName=bib_t&pageScale=10&isTab=Y&regnm=&dorg_storage=&language=&language_code=&query=%EC%9D%B8%EA%B3%B5%EC%A7%80%EB%8A%A5',\n",
    "    'user-agent' : 'Mozilla/5.0 (Macintosh; Intel Mac OS X 10_14_4) AppleWebKit/537.36 (KHTML, like Gecko) Chrome/73.0.3683.103 Safari/537.36'  }"
   ]
  },
  {
   "cell_type": "markdown",
   "metadata": {},
   "source": [
    "# 검색키워드: 인공지능"
   ]
  },
  {
   "cell_type": "code",
   "execution_count": 3,
   "metadata": {},
   "outputs": [],
   "source": [
    "#http://www.riss.or.kr/search/Search.do?isDetailSearch=N&searchGubun=true&viewYn=OP&queryText=&strQuery=%EC%9D%B8%EA%B3%B5%EC%A7%80%EB%8A%A5&exQuery=regnm%3AKCI%EB%93%B1%EC%9E%AC%E2%97%88regnm%3AKCI%EC%9A%B0%EC%88%98%EB%93%B1%EC%9E%AC%E2%97%88pyear%3A2021%E2%97%88pyear%3A2020%E2%97%88pyear%3A2019%E2%97%88pyear%3A2018%E2%97%88pyear%3A2017%E2%97%88pyear%3A2016%E2%97%88pyear%3A2015%E2%97%88pyear%3A2014%E2%97%88pyear%3A2013%E2%97%88pyear%3A2012%E2%97%88pyear%3A2011%E2%97%88language%3Akor%E2%97%88kdc%3A5%E2%97%88&exQueryText=%EB%93%B1%EC%9E%AC%EC%A0%95%EB%B3%B4+%5BKCI%EB%93%B1%EC%9E%AC%5D%40%40regnm%3AKCI%EB%93%B1%EC%9E%AC%E2%97%88%EB%93%B1%EC%9E%AC%EC%A0%95%EB%B3%B4+%5BKCI%EC%9A%B0%EC%88%98%EB%93%B1%EC%9E%AC%5D%40%40regnm%3AKCI%EC%9A%B0%EC%88%98%EB%93%B1%EC%9E%AC%E2%97%88%EB%B0%9C%ED%96%89%EC%97%B0%EB%8F%84+%5B2021%5D%40%40pyear%3A2021%E2%97%88%EB%B0%9C%ED%96%89%EC%97%B0%EB%8F%84+%5B2020%5D%40%40pyear%3A2020%E2%97%88%EB%B0%9C%ED%96%89%EC%97%B0%EB%8F%84+%5B2019%5D%40%40pyear%3A2019%E2%97%88%EB%B0%9C%ED%96%89%EC%97%B0%EB%8F%84+%5B2018%5D%40%40pyear%3A2018%E2%97%88%EB%B0%9C%ED%96%89%EC%97%B0%EB%8F%84+%5B2017%5D%40%40pyear%3A2017%E2%97%88%EB%B0%9C%ED%96%89%EC%97%B0%EB%8F%84+%5B2016%5D%40%40pyear%3A2016%E2%97%88%EB%B0%9C%ED%96%89%EC%97%B0%EB%8F%84+%5B2015%5D%40%40pyear%3A2015%E2%97%88%EB%B0%9C%ED%96%89%EC%97%B0%EB%8F%84+%5B2014%5D%40%40pyear%3A2014%E2%97%88%EB%B0%9C%ED%96%89%EC%97%B0%EB%8F%84+%5B2013%5D%40%40pyear%3A2013%E2%97%88%EB%B0%9C%ED%96%89%EC%97%B0%EB%8F%84+%5B2012%5D%40%40pyear%3A2012%E2%97%88%EB%B0%9C%ED%96%89%EC%97%B0%EB%8F%84+%5B2011%5D%40%40pyear%3A2011%E2%97%88%EC%9E%91%EC%84%B1%EC%96%B8%EC%96%B4+%5B%ED%95%9C%EA%B5%AD%EC%96%B4%5D%40%40language%3Akor%E2%97%88%EC%A3%BC%EC%A0%9C%EB%B6%84%EB%A5%98+%5B%EA%B8%B0%EC%88%A0%EA%B3%BC%ED%95%99%5D%40%40kdc%3A5%E2%97%88&order=%2FDESC&onHanja=false&strSort=RANK&p_year1=&p_year2=&iStartCount=0&orderBy=&mat_type=&mat_subtype=&fulltext_kind=&t_gubun=&learning_type=&ccl_code=&inside_outside=&fric_yn=&image_yn=&gubun=&kdc=&ttsUseYn=&fsearchMethod=search&sflag=1&isFDetailSearch=N&pageNumber=&resultKeyword=&fsearchSort=&fsearchOrder=&limiterList=&limiterListText=&facetList=&facetListText=&fsearchDB=&icate=re_a_kor&colName=re_a_kor&pageScale=10&isTab=Y&regnm=&dorg_storage=&language=&language_code=&clickKeyword=&relationKeyword=&query=%EC%9D%B8%EA%B3%B5%EC%A7%80%EB%8A%A5"
   ]
  },
  {
   "cell_type": "code",
   "execution_count": 4,
   "metadata": {},
   "outputs": [
    {
     "name": "stdout",
     "output_type": "stream",
     "text": [
      "FSM 기반의 게임 NPC 인공 지능 평가\n",
      "이중외피 건물의 개구부 및 난방설비 제어를 위한 인공지능망의 적용\n",
      "인공지능기법을 이용한 외환위기 조기경보시스템 구축\n",
      "인공지능 기반 사람의 자세 분류를 이용한 두 바퀴 로봇의 움직임 제어\n",
      "인공지능 : 스마트폰 가속도 센서 기반의 제스처 인식과 로봇 응용\n",
      "인공지능을 이용한 파프리카 실내 양액 재배 시 발생하는 병해충 자동 검출\n",
      "인공지능 : 스마트폰 가속도 센서를 이용한 행위 인식 시스템의 설계\n",
      "인공지능 피난유도설비 적용에 따른 최적 대피시뮬레이션 연구\n",
      "인공지능 : 제품수송 컨터네이너의 적재를 위한 규칙기반시스템\n",
      "인공지능 : 자세 예측을 이용한 효과적인 자세 기반 감정 동작 인식\n",
      "10\n",
      "인공지능 : FMM 신경망에서 연관도요소를 이용한 규칙 추출 기법\n",
      "인공지능 : 다중 분포 학습 모델을 위한 Haar-like Feature와 Decision Tree를 이용한 학습 알고리즘\n",
      "인공지능 : S-100 표준 기반 피처 카탈로그 제작지원 시스템의 설계 및 구현\n",
      "인공지능 : 영한 기계번역 시스템의 영한 변환사전 확장 도구\n",
      "인공지능 : 다중 구간 샘플링에 기반한 배경제거 알고리즘\n",
      "[인공지능, 신경망 및 퍼지시스템] 클라우드 컴퓨팅에 적합한 LDPC 부호 복제 기법\n",
      "영어발음 향상을 위한 실시간 인공지능 입모양 인식 프로그램 개발\n",
      "인공신경망을 이용한 지하채광 확정선외 혼입 예측과 분석 사례연구\n",
      "지능을 이용한 온실 제어 시스템\n",
      "도로기상정보시스템(RWIS)과 차량검지기(VDS) 자료를 이용한 강우수준별 통행속도예측\n",
      "20\n",
      "게임이론 관점에서 본 개인의 배반이 집단 이익에 미치는 영향\n",
      "게임 캐릭터의 전술적 행동을 위한 위치 평가 함수의 학습\n",
      "Particle Swarm Optimization을 이용한 공동주택의 공사비 예측에 관한 연구\n",
      "인간의 인지능력 기반의 행동특성이 반영된 분산대피에 관한 연구\n",
      "MCTS 기법을 활용한 불완전 정보 카드 게임에서의인공지능 에이전트 생성\n",
      "사물인터넷을 접목한 반도체 소자 공정 최적화 시뮬레이터 개발\n",
      "복수의 이미지를 합성하여 사용하는 캡차의 안전성 검증\n",
      "게임적 요소와 강화학습의 차용을 통한 디지털아트 구현에 관한 연구\n",
      "28\n"
     ]
    }
   ],
   "source": [
    "paper_link_list = []\n",
    "#3\n",
    "for i in range(3):\n",
    "    before_url = \"http://www.riss.or.kr/search/Search.do?isDetailSearch=N&searchGubun=true&viewYn=OP&queryText=&strQuery=%EC%9D%B8%EA%B3%B5%EC%A7%80%EB%8A%A5&exQuery=regnm%3AKCI%EB%93%B1%EC%9E%AC%E2%97%88regnm%3AKCI%EC%9A%B0%EC%88%98%EB%93%B1%EC%9E%AC%E2%97%88pyear%3A2021%E2%97%88pyear%3A2020%E2%97%88pyear%3A2019%E2%97%88pyear%3A2018%E2%97%88pyear%3A2017%E2%97%88pyear%3A2016%E2%97%88pyear%3A2015%E2%97%88pyear%3A2014%E2%97%88pyear%3A2013%E2%97%88pyear%3A2012%E2%97%88pyear%3A2011%E2%97%88language%3Akor%E2%97%88kdc%3A5%E2%97%88&exQueryText=%EB%93%B1%EC%9E%AC%EC%A0%95%EB%B3%B4+%5BKCI%EB%93%B1%EC%9E%AC%5D%40%40regnm%3AKCI%EB%93%B1%EC%9E%AC%E2%97%88%EB%93%B1%EC%9E%AC%EC%A0%95%EB%B3%B4+%5BKCI%EC%9A%B0%EC%88%98%EB%93%B1%EC%9E%AC%5D%40%40regnm%3AKCI%EC%9A%B0%EC%88%98%EB%93%B1%EC%9E%AC%E2%97%88%EB%B0%9C%ED%96%89%EC%97%B0%EB%8F%84+%5B2021%5D%40%40pyear%3A2021%E2%97%88%EB%B0%9C%ED%96%89%EC%97%B0%EB%8F%84+%5B2020%5D%40%40pyear%3A2020%E2%97%88%EB%B0%9C%ED%96%89%EC%97%B0%EB%8F%84+%5B2019%5D%40%40pyear%3A2019%E2%97%88%EB%B0%9C%ED%96%89%EC%97%B0%EB%8F%84+%5B2018%5D%40%40pyear%3A2018%E2%97%88%EB%B0%9C%ED%96%89%EC%97%B0%EB%8F%84+%5B2017%5D%40%40pyear%3A2017%E2%97%88%EB%B0%9C%ED%96%89%EC%97%B0%EB%8F%84+%5B2016%5D%40%40pyear%3A2016%E2%97%88%EB%B0%9C%ED%96%89%EC%97%B0%EB%8F%84+%5B2015%5D%40%40pyear%3A2015%E2%97%88%EB%B0%9C%ED%96%89%EC%97%B0%EB%8F%84+%5B2014%5D%40%40pyear%3A2014%E2%97%88%EB%B0%9C%ED%96%89%EC%97%B0%EB%8F%84+%5B2013%5D%40%40pyear%3A2013%E2%97%88%EB%B0%9C%ED%96%89%EC%97%B0%EB%8F%84+%5B2012%5D%40%40pyear%3A2012%E2%97%88%EB%B0%9C%ED%96%89%EC%97%B0%EB%8F%84+%5B2011%5D%40%40pyear%3A2011%E2%97%88%EC%9E%91%EC%84%B1%EC%96%B8%EC%96%B4+%5B%ED%95%9C%EA%B5%AD%EC%96%B4%5D%40%40language%3Akor%E2%97%88%EC%A3%BC%EC%A0%9C%EB%B6%84%EB%A5%98+%5B%EA%B8%B0%EC%88%A0%EA%B3%BC%ED%95%99%5D%40%40kdc%3A5%E2%97%88&order=%2FDESC&onHanja=false&strSort=RANK&p_year1=&p_year2=&iStartCount=\"\n",
    "    page = i*10\n",
    "    after_url = \"&orderBy=&mat_type=&mat_subtype=&fulltext_kind=&t_gubun=&learning_type=&ccl_code=&inside_outside=&fric_yn=&image_yn=&gubun=&kdc=&ttsUseYn=&fsearchMethod=search&sflag=1&isFDetailSearch=N&pageNumber=&resultKeyword=&fsearchSort=&fsearchOrder=&limiterList=&limiterListText=&facetList=&facetListText=&fsearchDB=&icate=re_a_kor&colName=re_a_kor&pageScale=10&isTab=Y&regnm=&dorg_storage=&language=&language_code=&clickKeyword=&relationKeyword=&query=%EC%9D%B8%EA%B3%B5%EC%A7%80%EB%8A%A5\"\n",
    "    \n",
    "    url = before_url + str(page) + after_url\n",
    "    \n",
    "    page_req = requests.get(url)\n",
    "    page_html = page_req.text\n",
    "    page_soup = BeautifulSoup(page_html, 'html.parser')\n",
    "\n",
    "    #links.append(page_soup.select('#divContent > div.rightContent > div > div.srchResultW > div.srchResultListW > ul > li > div.cont > p.title > a'))\n",
    "    links = page_soup.select('#divContent > div.rightContent > div > div.srchResultW > div.srchResultListW > ul > li > div.cont > p.title > a')\n",
    "    \n",
    "    for link in links:\n",
    "        ## Tag안의 텍스트\n",
    "        print(link.text)\n",
    "        paper_link_list.append(link.get('href'))\n",
    "    print(len(paper_link_list))"
   ]
  },
  {
   "cell_type": "code",
   "execution_count": 5,
   "metadata": {},
   "outputs": [
    {
     "data": {
      "text/plain": [
       "['/search/detail/DetailView.do?p_mat_type=1a0202e37d52c72d&control_no=93999d8ba3fd23fab7998d826d417196',\n",
       " '/search/detail/DetailView.do?p_mat_type=1a0202e37d52c72d&control_no=16b47975898671bbffe0bdc3ef48d419',\n",
       " '/search/detail/DetailView.do?p_mat_type=1a0202e37d52c72d&control_no=f9db2f034ad756bfffe0bdc3ef48d419',\n",
       " '/search/detail/DetailView.do?p_mat_type=1a0202e37d52c72d&control_no=634c457452b0b7bfe9810257f7042666',\n",
       " '/search/detail/DetailView.do?p_mat_type=1a0202e37d52c72d&control_no=34111649c799be16e9810257f7042666',\n",
       " '/search/detail/DetailView.do?p_mat_type=1a0202e37d52c72d&control_no=93c707fba52fdd5ce9810257f7042666',\n",
       " '/search/detail/DetailView.do?p_mat_type=1a0202e37d52c72d&control_no=a10b336ef610fc5fd18150b21a227875',\n",
       " '/search/detail/DetailView.do?p_mat_type=1a0202e37d52c72d&control_no=278c4617086494deffe0bdc3ef48d419',\n",
       " '/search/detail/DetailView.do?p_mat_type=1a0202e37d52c72d&control_no=34111649c799be16d18150b21a227875',\n",
       " '/search/detail/DetailView.do?p_mat_type=1a0202e37d52c72d&control_no=c52ebd42f4b744136aae8a972f9116fb',\n",
       " '/search/detail/DetailView.do?p_mat_type=1a0202e37d52c72d&control_no=5f70c2d32306aeb7b7998d826d417196',\n",
       " '/search/detail/DetailView.do?p_mat_type=1a0202e37d52c72d&control_no=a10b336ef610fc5fe9810257f7042666',\n",
       " '/search/detail/DetailView.do?p_mat_type=1a0202e37d52c72d&control_no=37b22aef122fb06a4884a65323211ff0',\n",
       " '/search/detail/DetailView.do?p_mat_type=1a0202e37d52c72d&control_no=a10b336ef610fc5f7f7a54760bb41745',\n",
       " '/search/detail/DetailView.do?p_mat_type=1a0202e37d52c72d&control_no=a10b336ef610fc5f47de9c1710b0298d',\n",
       " '/search/detail/DetailView.do?p_mat_type=1a0202e37d52c72d&control_no=6b4f443ce60e13d9ffe0bdc3ef48d419',\n",
       " '/search/detail/DetailView.do?p_mat_type=1a0202e37d52c72d&control_no=beb0135e946f9152d18150b21a227875',\n",
       " '/search/detail/DetailView.do?p_mat_type=1a0202e37d52c72d&control_no=14180f26465c6c8e7ecd42904f0c5d65',\n",
       " '/search/detail/DetailView.do?p_mat_type=1a0202e37d52c72d&control_no=46ab3efd25a6f8b3ffe0bdc3ef48d419',\n",
       " '/search/detail/DetailView.do?p_mat_type=1a0202e37d52c72d&control_no=4ff70a34ee0ab79dffe0bdc3ef48d419',\n",
       " '/search/detail/DetailView.do?p_mat_type=1a0202e37d52c72d&control_no=3347816eb7b486fdffe0bdc3ef48d419',\n",
       " '/search/detail/DetailView.do?p_mat_type=1a0202e37d52c72d&control_no=f552d0a80e5348b9ffe0bdc3ef48d419',\n",
       " '/search/detail/DetailView.do?p_mat_type=1a0202e37d52c72d&control_no=fcf09f815473bc27ffe0bdc3ef48d419',\n",
       " '/search/detail/DetailView.do?p_mat_type=1a0202e37d52c72d&control_no=9191c1753ee41131ffe0bdc3ef48d419',\n",
       " '/search/detail/DetailView.do?p_mat_type=1a0202e37d52c72d&control_no=e328525163c76381b36097776a77e665',\n",
       " '/search/detail/DetailView.do?p_mat_type=1a0202e37d52c72d&control_no=a39892b1ce7bcd5c47de9c1710b0298d',\n",
       " '/search/detail/DetailView.do?p_mat_type=1a0202e37d52c72d&control_no=b2165ce8a2da784fffe0bdc3ef48d419',\n",
       " '/search/detail/DetailView.do?p_mat_type=1a0202e37d52c72d&control_no=455f754797ea8a64ffe0bdc3ef48d419']"
      ]
     },
     "execution_count": 5,
     "metadata": {},
     "output_type": "execute_result"
    }
   ],
   "source": [
    "paper_link_list"
   ]
  },
  {
   "cell_type": "code",
   "execution_count": 6,
   "metadata": {},
   "outputs": [
    {
     "data": {
      "text/plain": [
       "28"
      ]
     },
     "execution_count": 6,
     "metadata": {},
     "output_type": "execute_result"
    }
   ],
   "source": [
    "len(paper_link_list)"
   ]
  },
  {
   "cell_type": "code",
   "execution_count": 7,
   "metadata": {},
   "outputs": [
    {
     "name": "stderr",
     "output_type": "stream",
     "text": [
      "100%|██████████████████████████████████████████████████████████████████████████████████████████| 28/28 [00:00<?, ?it/s]\n"
     ]
    }
   ],
   "source": [
    "paper_url = []\n",
    "\n",
    "for paper_link in tqdm(paper_link_list):\n",
    "    tmp_url = \"http://www.riss.kr\" + paper_link\n",
    "    paper_url.append(tmp_url)"
   ]
  },
  {
   "cell_type": "code",
   "execution_count": 8,
   "metadata": {},
   "outputs": [
    {
     "data": {
      "text/plain": [
       "['http://www.riss.kr/search/detail/DetailView.do?p_mat_type=1a0202e37d52c72d&control_no=93999d8ba3fd23fab7998d826d417196',\n",
       " 'http://www.riss.kr/search/detail/DetailView.do?p_mat_type=1a0202e37d52c72d&control_no=16b47975898671bbffe0bdc3ef48d419',\n",
       " 'http://www.riss.kr/search/detail/DetailView.do?p_mat_type=1a0202e37d52c72d&control_no=f9db2f034ad756bfffe0bdc3ef48d419',\n",
       " 'http://www.riss.kr/search/detail/DetailView.do?p_mat_type=1a0202e37d52c72d&control_no=634c457452b0b7bfe9810257f7042666',\n",
       " 'http://www.riss.kr/search/detail/DetailView.do?p_mat_type=1a0202e37d52c72d&control_no=34111649c799be16e9810257f7042666',\n",
       " 'http://www.riss.kr/search/detail/DetailView.do?p_mat_type=1a0202e37d52c72d&control_no=93c707fba52fdd5ce9810257f7042666',\n",
       " 'http://www.riss.kr/search/detail/DetailView.do?p_mat_type=1a0202e37d52c72d&control_no=a10b336ef610fc5fd18150b21a227875',\n",
       " 'http://www.riss.kr/search/detail/DetailView.do?p_mat_type=1a0202e37d52c72d&control_no=278c4617086494deffe0bdc3ef48d419',\n",
       " 'http://www.riss.kr/search/detail/DetailView.do?p_mat_type=1a0202e37d52c72d&control_no=34111649c799be16d18150b21a227875',\n",
       " 'http://www.riss.kr/search/detail/DetailView.do?p_mat_type=1a0202e37d52c72d&control_no=c52ebd42f4b744136aae8a972f9116fb',\n",
       " 'http://www.riss.kr/search/detail/DetailView.do?p_mat_type=1a0202e37d52c72d&control_no=5f70c2d32306aeb7b7998d826d417196',\n",
       " 'http://www.riss.kr/search/detail/DetailView.do?p_mat_type=1a0202e37d52c72d&control_no=a10b336ef610fc5fe9810257f7042666',\n",
       " 'http://www.riss.kr/search/detail/DetailView.do?p_mat_type=1a0202e37d52c72d&control_no=37b22aef122fb06a4884a65323211ff0',\n",
       " 'http://www.riss.kr/search/detail/DetailView.do?p_mat_type=1a0202e37d52c72d&control_no=a10b336ef610fc5f7f7a54760bb41745',\n",
       " 'http://www.riss.kr/search/detail/DetailView.do?p_mat_type=1a0202e37d52c72d&control_no=a10b336ef610fc5f47de9c1710b0298d',\n",
       " 'http://www.riss.kr/search/detail/DetailView.do?p_mat_type=1a0202e37d52c72d&control_no=6b4f443ce60e13d9ffe0bdc3ef48d419',\n",
       " 'http://www.riss.kr/search/detail/DetailView.do?p_mat_type=1a0202e37d52c72d&control_no=beb0135e946f9152d18150b21a227875',\n",
       " 'http://www.riss.kr/search/detail/DetailView.do?p_mat_type=1a0202e37d52c72d&control_no=14180f26465c6c8e7ecd42904f0c5d65',\n",
       " 'http://www.riss.kr/search/detail/DetailView.do?p_mat_type=1a0202e37d52c72d&control_no=46ab3efd25a6f8b3ffe0bdc3ef48d419',\n",
       " 'http://www.riss.kr/search/detail/DetailView.do?p_mat_type=1a0202e37d52c72d&control_no=4ff70a34ee0ab79dffe0bdc3ef48d419',\n",
       " 'http://www.riss.kr/search/detail/DetailView.do?p_mat_type=1a0202e37d52c72d&control_no=3347816eb7b486fdffe0bdc3ef48d419',\n",
       " 'http://www.riss.kr/search/detail/DetailView.do?p_mat_type=1a0202e37d52c72d&control_no=f552d0a80e5348b9ffe0bdc3ef48d419',\n",
       " 'http://www.riss.kr/search/detail/DetailView.do?p_mat_type=1a0202e37d52c72d&control_no=fcf09f815473bc27ffe0bdc3ef48d419',\n",
       " 'http://www.riss.kr/search/detail/DetailView.do?p_mat_type=1a0202e37d52c72d&control_no=9191c1753ee41131ffe0bdc3ef48d419',\n",
       " 'http://www.riss.kr/search/detail/DetailView.do?p_mat_type=1a0202e37d52c72d&control_no=e328525163c76381b36097776a77e665',\n",
       " 'http://www.riss.kr/search/detail/DetailView.do?p_mat_type=1a0202e37d52c72d&control_no=a39892b1ce7bcd5c47de9c1710b0298d',\n",
       " 'http://www.riss.kr/search/detail/DetailView.do?p_mat_type=1a0202e37d52c72d&control_no=b2165ce8a2da784fffe0bdc3ef48d419',\n",
       " 'http://www.riss.kr/search/detail/DetailView.do?p_mat_type=1a0202e37d52c72d&control_no=455f754797ea8a64ffe0bdc3ef48d419']"
      ]
     },
     "execution_count": 8,
     "metadata": {},
     "output_type": "execute_result"
    }
   ],
   "source": [
    "paper_url"
   ]
  },
  {
   "cell_type": "code",
   "execution_count": 9,
   "metadata": {},
   "outputs": [
    {
     "data": {
      "text/plain": [
       "28"
      ]
     },
     "execution_count": 9,
     "metadata": {},
     "output_type": "execute_result"
    }
   ],
   "source": [
    "len(paper_url)"
   ]
  },
  {
   "cell_type": "code",
   "execution_count": 10,
   "metadata": {},
   "outputs": [],
   "source": [
    "write_wb = openpyxl.Workbook()\n",
    "write_ws = write_wb.active"
   ]
  },
  {
   "cell_type": "code",
   "execution_count": 11,
   "metadata": {},
   "outputs": [
    {
     "data": {
      "text/plain": [
       "\"\\nwrite_ws = write_wb.active\\nwrite_ws['A1'] = 'title_kor'\\nwrite_ws['B1'] = 'title_eng'\\nwrite_ws['C1'] = 'author'\\nwrite_ws['D1'] = 'book'\\nwrite_ws['E1'] = 'year'\\nwrite_ws['F1'] = 'keyword'\\nwrite_ws['G1'] = 'abstract_kor'\\nwrite_ws['H1'] = 'abstract_eng'\\n\""
      ]
     },
     "execution_count": 11,
     "metadata": {},
     "output_type": "execute_result"
    }
   ],
   "source": [
    "\"\"\"\n",
    "write_ws = write_wb.active\n",
    "write_ws['A1'] = 'title_kor'\n",
    "write_ws['B1'] = 'title_eng'\n",
    "write_ws['C1'] = 'author'\n",
    "write_ws['D1'] = 'book'\n",
    "write_ws['E1'] = 'year'\n",
    "write_ws['F1'] = 'keyword'\n",
    "write_ws['G1'] = 'abstract_kor'\n",
    "write_ws['H1'] = 'abstract_eng'\n",
    "\"\"\""
   ]
  },
  {
   "cell_type": "code",
   "execution_count": 12,
   "metadata": {},
   "outputs": [],
   "source": [
    "write_ws = write_wb.active\n",
    "write_ws['A1'] = 'title'\n",
    "write_ws['B1'] = 'author'\n",
    "write_ws['C1'] = 'book'\n",
    "write_ws['D1'] = 'year'\n",
    "write_ws['E1'] = 'keyword'\n",
    "write_ws['F1'] = 'abstract_kor'\n",
    "write_ws['G1'] = 'abstract_eng'"
   ]
  },
  {
   "cell_type": "code",
   "execution_count": 13,
   "metadata": {
    "scrolled": true
   },
   "outputs": [
    {
     "name": "stdout",
     "output_type": "stream",
     "text": [
      "0 ERROR\n",
      "1 paper clear\n",
      "2 paper clear\n",
      "3 paper clear\n",
      "4 ERROR\n",
      "5 paper clear\n",
      "6 ERROR\n",
      "7 paper clear\n",
      "8 ERROR\n",
      "9 ERROR\n",
      "10 ERROR\n",
      "11 ERROR\n",
      "12 ERROR\n",
      "13 ERROR\n",
      "14 ERROR\n",
      "15 paper clear\n",
      "16 paper clear\n",
      "17 paper clear\n",
      "18 paper clear\n",
      "19 paper clear\n",
      "20 paper clear\n",
      "21 paper clear\n",
      "22 paper clear\n",
      "23 paper clear\n",
      "24 ERROR\n",
      "25 ERROR\n",
      "26 paper clear\n",
      "27 paper clear\n",
      "Running Time :  11.750559329986572\n"
     ]
    }
   ],
   "source": [
    "start = time.time()\n",
    "\n",
    "for i, url in enumerate(paper_url):\n",
    "    res = requests.get(url, headers = custom_header)\n",
    "    element = lxml.html.fromstring(res.text)\n",
    "\n",
    "    try:\n",
    "        tmp_title = element.cssselect('h3.title')\n",
    "        tmp_title = tmp_title[0].text_content()\n",
    "        tmp_title = tmp_title.split(\"=\")\n",
    "        title_kor = tmp_title[0].strip()\n",
    "        #title_eng = tmp_title[1].strip()\n",
    "\n",
    "        tmp_author = element.cssselect('div.infoDetailL > ul > li:nth-child(1) > div > p')\n",
    "        author = tmp_author[0].text_content().strip()\n",
    "\n",
    "        tmp_book = element.cssselect('div.infoDetailL > ul > li:nth-child(3) > div > p')\n",
    "        book = tmp_book[0].text_content().strip()\n",
    "\n",
    "        tmp_year = element.cssselect('div.infoDetailL > ul > li:nth-child(5) > div > p')\n",
    "        year = tmp_year[0].text_content().strip()\n",
    "\n",
    "        tmp_keyword = element.cssselect('div.infoDetailL > ul > li:nth-child(7) > div > p')\n",
    "        keyword = tmp_keyword[0].text_content().strip()\n",
    "\n",
    "        tmp_abstract = element.cssselect('div.text.off')\n",
    "        abstract_kor = tmp_abstract[0].text_content().strip()\n",
    "        abstract_eng = tmp_abstract[1].text_content().strip()\n",
    "\n",
    "        print(i, 'paper clear')\n",
    "\n",
    "    except:\n",
    "        print(i, 'ERROR')\n",
    "        continue\n",
    "\n",
    "\n",
    "    write_ws.append([title_kor, author, book, year, keyword, abstract_kor, abstract_eng])\n",
    "    write_wb.save('./6_인공지능.xlsx')\n",
    "    \n",
    "print(\"Running Time : \", time.time() - start)"
   ]
  },
  {
   "cell_type": "code",
   "execution_count": null,
   "metadata": {},
   "outputs": [],
   "source": []
  }
 ],
 "metadata": {
  "kernelspec": {
   "display_name": "Python 3",
   "language": "python",
   "name": "python3"
  },
  "language_info": {
   "codemirror_mode": {
    "name": "ipython",
    "version": 3
   },
   "file_extension": ".py",
   "mimetype": "text/x-python",
   "name": "python",
   "nbconvert_exporter": "python",
   "pygments_lexer": "ipython3",
   "version": "3.7.9"
  }
 },
 "nbformat": 4,
 "nbformat_minor": 2
}
