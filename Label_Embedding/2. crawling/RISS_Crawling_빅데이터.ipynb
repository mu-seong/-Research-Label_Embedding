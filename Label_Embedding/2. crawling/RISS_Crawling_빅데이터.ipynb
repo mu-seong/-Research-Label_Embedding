{
 "cells": [
  {
   "cell_type": "code",
   "execution_count": 1,
   "metadata": {},
   "outputs": [],
   "source": [
    "import requests\n",
    "import re\n",
    "import time\n",
    "import lxml.html\n",
    "import openpyxl\n",
    "import pandas as pd\n",
    "\n",
    "from bs4 import BeautifulSoup\n",
    "from tqdm import tqdm"
   ]
  },
  {
   "cell_type": "code",
   "execution_count": 2,
   "metadata": {},
   "outputs": [],
   "source": [
    "custom_header = {\n",
    "    'referer' : 'http://www.riss.kr/index.do',\n",
    "    #'referer' : 'http://www.riss.kr/search/Search.do?isDetailSearch=N&searchGubun=true&viewYn=OP&queryText=&strQuery=%EC%9D%B8%EA%B3%B5%EC%A7%80%EB%8A%A5&exQuery=&exQueryText=&order=&onHanja=&strSort=&p_year1=&p_year2=&iStartCount=0&orderBy=&fsearchMethod=search&sflag=1&isFDetailSearch=N&pageNumber=1&resultKeyword=&fsearchSort=&fsearchOrder=&limiterList=&limiterListText=&facetList=&facetListText=&fsearchDB=&icate=bib_t&colName=bib_t&pageScale=10&isTab=Y&regnm=&dorg_storage=&language=&language_code=&query=%EC%9D%B8%EA%B3%B5%EC%A7%80%EB%8A%A5',\n",
    "    'user-agent' : 'Mozilla/5.0 (Macintosh; Intel Mac OS X 10_14_4) AppleWebKit/537.36 (KHTML, like Gecko) Chrome/73.0.3683.103 Safari/537.36'  }"
   ]
  },
  {
   "cell_type": "markdown",
   "metadata": {},
   "source": [
    "# 검색키워드: 빅데이터"
   ]
  },
  {
   "cell_type": "code",
   "execution_count": 3,
   "metadata": {},
   "outputs": [],
   "source": [
    "#http://www.riss.or.kr/search/Search.do?isDetailSearch=N&searchGubun=true&viewYn=OP&queryText=&strQuery=%EB%B9%85%EB%8D%B0%EC%9D%B4%ED%84%B0&exQuery=regnm%3AKCI%EB%93%B1%EC%9E%AC%E2%97%88pyear%3A2021%E2%97%88pyear%3A2020%E2%97%88pyear%3A2019%E2%97%88pyear%3A2018%E2%97%88pyear%3A2017%E2%97%88pyear%3A2016%E2%97%88pyear%3A2015%E2%97%88pyear%3A2014%E2%97%88pyear%3A2013%E2%97%88pyear%3A2012%E2%97%88pyear%3A2011%E2%97%88pyear%3A2010%E2%97%88language%3Akor%E2%97%88kdc%3A5%E2%97%88&exQueryText=%EB%93%B1%EC%9E%AC%EC%A0%95%EB%B3%B4+%5BKCI%EB%93%B1%EC%9E%AC%5D%40%40regnm%3AKCI%EB%93%B1%EC%9E%AC%E2%97%88%EB%B0%9C%ED%96%89%EC%97%B0%EB%8F%84+%5B2021%5D%40%40pyear%3A2021%E2%97%88%EB%B0%9C%ED%96%89%EC%97%B0%EB%8F%84+%5B2020%5D%40%40pyear%3A2020%E2%97%88%EB%B0%9C%ED%96%89%EC%97%B0%EB%8F%84+%5B2019%5D%40%40pyear%3A2019%E2%97%88%EB%B0%9C%ED%96%89%EC%97%B0%EB%8F%84+%5B2018%5D%40%40pyear%3A2018%E2%97%88%EB%B0%9C%ED%96%89%EC%97%B0%EB%8F%84+%5B2017%5D%40%40pyear%3A2017%E2%97%88%EB%B0%9C%ED%96%89%EC%97%B0%EB%8F%84+%5B2016%5D%40%40pyear%3A2016%E2%97%88%EB%B0%9C%ED%96%89%EC%97%B0%EB%8F%84+%5B2015%5D%40%40pyear%3A2015%E2%97%88%EB%B0%9C%ED%96%89%EC%97%B0%EB%8F%84+%5B2014%5D%40%40pyear%3A2014%E2%97%88%EB%B0%9C%ED%96%89%EC%97%B0%EB%8F%84+%5B2013%5D%40%40pyear%3A2013%E2%97%88%EB%B0%9C%ED%96%89%EC%97%B0%EB%8F%84+%5B2012%5D%40%40pyear%3A2012%E2%97%88%EB%B0%9C%ED%96%89%EC%97%B0%EB%8F%84+%5B2011%5D%40%40pyear%3A2011%E2%97%88%EB%B0%9C%ED%96%89%EC%97%B0%EB%8F%84+%5B2010%5D%40%40pyear%3A2010%E2%97%88%EC%9E%91%EC%84%B1%EC%96%B8%EC%96%B4+%5B%ED%95%9C%EA%B5%AD%EC%96%B4%5D%40%40language%3Akor%E2%97%88%EC%A3%BC%EC%A0%9C%EB%B6%84%EB%A5%98+%5B%EA%B8%B0%EC%88%A0%EA%B3%BC%ED%95%99%5D%40%40kdc%3A5%E2%97%88&order=%2FDESC&onHanja=false&strSort=RANK&p_year1=&p_year2=&iStartCount=0&orderBy=&mat_type=&mat_subtype=&fulltext_kind=&t_gubun=&learning_type=&ccl_code=&inside_outside=&fric_yn=&image_yn=&gubun=&kdc=&ttsUseYn=&fsearchMethod=search&sflag=1&isFDetailSearch=N&pageNumber=&resultKeyword=&fsearchSort=&fsearchOrder=&limiterList=&limiterListText=&facetList=&facetListText=&fsearchDB=&icate=re_a_kor&colName=re_a_kor&pageScale=10&isTab=Y&regnm=&dorg_storage=&language=&language_code=&clickKeyword=&relationKeyword=&query=%EB%B9%85%EB%8D%B0%EC%9D%B4%ED%84%B0"
   ]
  },
  {
   "cell_type": "code",
   "execution_count": 4,
   "metadata": {},
   "outputs": [
    {
     "name": "stdout",
     "output_type": "stream",
     "text": [
      "항공 통신 기술 분야 : 빅 데이터의 품질 요소 제안\n",
      "중소기업에서 정부 3.0기반의 빅 데이터 활용정책\n",
      "빅 데이터의 새로운 고객 가치와 비즈니스 창출을 위한 대응 전략\n",
      "신(新)기술(빅데이터) 등장과 개인정보의 보호\n",
      "공간 빅데이터 핵심서비스 선정에 관한 연구\n",
      "빅데이터를 활용한 휴양림 이용객현황과 인터넷 검색어의 상관관계분석\n",
      "맵리듀스에서 빅데이터 분석을 위한 다중 Group-by 질의의 효율적인 처리 기법\n",
      "빅데이터 분석 기반의 오피니언 마이닝을 이용한 정보화 사업 평가 분석\n",
      "기술사업화 프로세스 단계별 빅데이터 활용방안에 관한 연구\n",
      "빅데이터 분석을 위한 한국어 SentiWordNet 개발 방안 연구\n",
      "10\n",
      "빅데이터 속성이 재난대응 의사결정에 미치는 영향에 관한 연구\n",
      "스마트카드 빅데이터를 이용한 서울시 지하철 이동패턴 분석\n",
      "SNS 빅 데이터를 이용한 산림치유의 인식 분석\n",
      "클라우드 컴퓨팅 환경에서 빅데이터 처리를 위한 ART 기반의 적응형 자원관리 방법\n",
      "빅데이터에 대한 Completeness를 이용한 빈발 패턴 마이닝\n",
      "빅 데이터의 자율 속성 감축을 위한 확장된 정보 엔트로피 기반 상관척도\n",
      "빅데이터 기반의 실시간 네트워크 트래픽 분석 플랫폼 설계\n",
      "빅데이터를 이용한 보안정책 개선에 관한 연구\n",
      "빅데이터 분석 도구 R을 활용한 효율적인 특허 검색에 관한 연구\n",
      "가변 윈도우 기법을 적용한 통계적 공정 제어와 퍼지추론 기법을 이용한 소프트웨어 성능 변화의 빅 데이터 분석\n",
      "20\n",
      "보건의료 빅데이터를 이용한 전문재활치료 건강보험수가 현황 분석: ICF 모델을 중심으로\n",
      "염색가공 산업의 에너지 효율화를 위한 제조현장 빅데이터 활용에 관한 연구\n",
      "간호간병통합서비스 관련 온라인 기사 및 소셜미디어 빅데이터의 의미연결망 분석\n",
      "MongoDB에 대한 디지털 포렌식 조사 기법 연구\n",
      "노인근로자의 직무특성 및 여가활동참여가 건강에 미치는 영향\n",
      "건강보험급여 기반의 작업치료 진료행위 현황에 관한 연구 : 2011~2015년\n",
      "지속가능한 미래형 스마트교육 시스템 구축 방안\n",
      "No Disk System 환경에서의 사용자 행위 분석\n",
      "중소기업을 위한 프라이빗 클라우드 인프라 기반 하둡 클러스터의 기본 프로토타입 설계 및 실증\n",
      "29\n"
     ]
    }
   ],
   "source": [
    "paper_link_list = []\n",
    "#3\n",
    "for i in range(3):\n",
    "    before_url = \"http://www.riss.or.kr/search/Search.do?isDetailSearch=N&searchGubun=true&viewYn=OP&queryText=&strQuery=%EB%B9%85%EB%8D%B0%EC%9D%B4%ED%84%B0&exQuery=regnm%3AKCI%EB%93%B1%EC%9E%AC%E2%97%88pyear%3A2021%E2%97%88pyear%3A2020%E2%97%88pyear%3A2019%E2%97%88pyear%3A2018%E2%97%88pyear%3A2017%E2%97%88pyear%3A2016%E2%97%88pyear%3A2015%E2%97%88pyear%3A2014%E2%97%88pyear%3A2013%E2%97%88pyear%3A2012%E2%97%88pyear%3A2011%E2%97%88pyear%3A2010%E2%97%88language%3Akor%E2%97%88kdc%3A5%E2%97%88&exQueryText=%EB%93%B1%EC%9E%AC%EC%A0%95%EB%B3%B4+%5BKCI%EB%93%B1%EC%9E%AC%5D%40%40regnm%3AKCI%EB%93%B1%EC%9E%AC%E2%97%88%EB%B0%9C%ED%96%89%EC%97%B0%EB%8F%84+%5B2021%5D%40%40pyear%3A2021%E2%97%88%EB%B0%9C%ED%96%89%EC%97%B0%EB%8F%84+%5B2020%5D%40%40pyear%3A2020%E2%97%88%EB%B0%9C%ED%96%89%EC%97%B0%EB%8F%84+%5B2019%5D%40%40pyear%3A2019%E2%97%88%EB%B0%9C%ED%96%89%EC%97%B0%EB%8F%84+%5B2018%5D%40%40pyear%3A2018%E2%97%88%EB%B0%9C%ED%96%89%EC%97%B0%EB%8F%84+%5B2017%5D%40%40pyear%3A2017%E2%97%88%EB%B0%9C%ED%96%89%EC%97%B0%EB%8F%84+%5B2016%5D%40%40pyear%3A2016%E2%97%88%EB%B0%9C%ED%96%89%EC%97%B0%EB%8F%84+%5B2015%5D%40%40pyear%3A2015%E2%97%88%EB%B0%9C%ED%96%89%EC%97%B0%EB%8F%84+%5B2014%5D%40%40pyear%3A2014%E2%97%88%EB%B0%9C%ED%96%89%EC%97%B0%EB%8F%84+%5B2013%5D%40%40pyear%3A2013%E2%97%88%EB%B0%9C%ED%96%89%EC%97%B0%EB%8F%84+%5B2012%5D%40%40pyear%3A2012%E2%97%88%EB%B0%9C%ED%96%89%EC%97%B0%EB%8F%84+%5B2011%5D%40%40pyear%3A2011%E2%97%88%EB%B0%9C%ED%96%89%EC%97%B0%EB%8F%84+%5B2010%5D%40%40pyear%3A2010%E2%97%88%EC%9E%91%EC%84%B1%EC%96%B8%EC%96%B4+%5B%ED%95%9C%EA%B5%AD%EC%96%B4%5D%40%40language%3Akor%E2%97%88%EC%A3%BC%EC%A0%9C%EB%B6%84%EB%A5%98+%5B%EA%B8%B0%EC%88%A0%EA%B3%BC%ED%95%99%5D%40%40kdc%3A5%E2%97%88&order=%2FDESC&onHanja=false&strSort=RANK&p_year1=&p_year2=&iStartCount=\"\n",
    "    page = i*10\n",
    "    after_url = \"&orderBy=&mat_type=&mat_subtype=&fulltext_kind=&t_gubun=&learning_type=&ccl_code=&inside_outside=&fric_yn=&image_yn=&gubun=&kdc=&ttsUseYn=&fsearchMethod=search&sflag=1&isFDetailSearch=N&pageNumber=&resultKeyword=&fsearchSort=&fsearchOrder=&limiterList=&limiterListText=&facetList=&facetListText=&fsearchDB=&icate=re_a_kor&colName=re_a_kor&pageScale=10&isTab=Y&regnm=&dorg_storage=&language=&language_code=&clickKeyword=&relationKeyword=&query=%EB%B9%85%EB%8D%B0%EC%9D%B4%ED%84%B0\"\n",
    "    \n",
    "    url = before_url + str(page) + after_url\n",
    "    \n",
    "    page_req = requests.get(url)\n",
    "    page_html = page_req.text\n",
    "    page_soup = BeautifulSoup(page_html, 'html.parser')\n",
    "\n",
    "    #links.append(page_soup.select('#divContent > div.rightContent > div > div.srchResultW > div.srchResultListW > ul > li > div.cont > p.title > a'))\n",
    "    links = page_soup.select('#divContent > div.rightContent > div > div.srchResultW > div.srchResultListW > ul > li > div.cont > p.title > a')\n",
    "    \n",
    "    for link in links:\n",
    "        ## Tag안의 텍스트\n",
    "        print(link.text)\n",
    "        paper_link_list.append(link.get('href'))\n",
    "    print(len(paper_link_list))"
   ]
  },
  {
   "cell_type": "code",
   "execution_count": 5,
   "metadata": {},
   "outputs": [
    {
     "data": {
      "text/plain": [
       "['/search/detail/DetailView.do?p_mat_type=1a0202e37d52c72d&control_no=9e12648df05ac655ffe0bdc3ef48d419',\n",
       " '/search/detail/DetailView.do?p_mat_type=1a0202e37d52c72d&control_no=623f51eb63575b6fffe0bdc3ef48d419',\n",
       " '/search/detail/DetailView.do?p_mat_type=1a0202e37d52c72d&control_no=f1a3bc75b7b30623ffe0bdc3ef48d419',\n",
       " '/search/detail/DetailView.do?p_mat_type=1a0202e37d52c72d&control_no=f1490ef100019013ffe0bdc3ef48d419',\n",
       " '/search/detail/DetailView.do?p_mat_type=1a0202e37d52c72d&control_no=c83d9cb696950e8dd18150b21a227875',\n",
       " '/search/detail/DetailView.do?p_mat_type=1a0202e37d52c72d&control_no=021f00b73cc4b7147f7a54760bb41745',\n",
       " '/search/detail/DetailView.do?p_mat_type=1a0202e37d52c72d&control_no=82b84c49ce4a83ace9810257f7042666',\n",
       " '/search/detail/DetailView.do?p_mat_type=1a0202e37d52c72d&control_no=2bb01c073d5817ee7f7a54760bb41745',\n",
       " '/search/detail/DetailView.do?p_mat_type=1a0202e37d52c72d&control_no=bb087d0622ddbe7447de9c1710b0298d',\n",
       " '/search/detail/DetailView.do?p_mat_type=1a0202e37d52c72d&control_no=bb087d0622ddbe747ecd42904f0c5d65',\n",
       " '/search/detail/DetailView.do?p_mat_type=1a0202e37d52c72d&control_no=171cea8fbe51ca9fffe0bdc3ef48d419',\n",
       " '/search/detail/DetailView.do?p_mat_type=1a0202e37d52c72d&control_no=d6815682bc2cea48ffe0bdc3ef48d419',\n",
       " '/search/detail/DetailView.do?p_mat_type=1a0202e37d52c72d&control_no=1b7e9ad23d924f5de9810257f7042666',\n",
       " '/search/detail/DetailView.do?p_mat_type=1a0202e37d52c72d&control_no=ae1d198c47b94ce9b7998d826d417196',\n",
       " '/search/detail/DetailView.do?p_mat_type=1a0202e37d52c72d&control_no=d220cdfdf260be8cd18150b21a227875',\n",
       " '/search/detail/DetailView.do?p_mat_type=1a0202e37d52c72d&control_no=7c750ca54562eb577ecd42904f0c5d65',\n",
       " '/search/detail/DetailView.do?p_mat_type=1a0202e37d52c72d&control_no=1a8884efe9072858ffe0bdc3ef48d419',\n",
       " '/search/detail/DetailView.do?p_mat_type=1a0202e37d52c72d&control_no=76773b58a1d09d14ffe0bdc3ef48d419',\n",
       " '/search/detail/DetailView.do?p_mat_type=1a0202e37d52c72d&control_no=a1e9d3005155423effe0bdc3ef48d419',\n",
       " '/search/detail/DetailView.do?p_mat_type=1a0202e37d52c72d&control_no=4e1f89a6459bf0d6b7998d826d417196',\n",
       " '/search/detail/DetailView.do?p_mat_type=1a0202e37d52c72d&control_no=14d9b22593b00dca4884a65323211ff0',\n",
       " '/search/detail/DetailView.do?p_mat_type=1a0202e37d52c72d&control_no=2b3425424a834f6ab7998d826d417196',\n",
       " '/search/detail/DetailView.do?p_mat_type=1a0202e37d52c72d&control_no=595e04ba27a597396aae8a972f9116fb',\n",
       " '/search/detail/DetailView.do?p_mat_type=1a0202e37d52c72d&control_no=df071a480b830da4ffe0bdc3ef48d419',\n",
       " '/search/detail/DetailView.do?p_mat_type=1a0202e37d52c72d&control_no=e939ec9dffbe8d1d4884a65323211ff0',\n",
       " '/search/detail/DetailView.do?p_mat_type=1a0202e37d52c72d&control_no=85e9a616b1aff853e9810257f7042666',\n",
       " '/search/detail/DetailView.do?p_mat_type=1a0202e37d52c72d&control_no=0ea89f4db46557f4ffe0bdc3ef48d419',\n",
       " '/search/detail/DetailView.do?p_mat_type=1a0202e37d52c72d&control_no=38a386152f3f6240ffe0bdc3ef48d419',\n",
       " '/search/detail/DetailView.do?p_mat_type=1a0202e37d52c72d&control_no=bb30744277a74d01ffe0bdc3ef48d419']"
      ]
     },
     "execution_count": 5,
     "metadata": {},
     "output_type": "execute_result"
    }
   ],
   "source": [
    "paper_link_list"
   ]
  },
  {
   "cell_type": "code",
   "execution_count": 6,
   "metadata": {},
   "outputs": [
    {
     "data": {
      "text/plain": [
       "29"
      ]
     },
     "execution_count": 6,
     "metadata": {},
     "output_type": "execute_result"
    }
   ],
   "source": [
    "len(paper_link_list)"
   ]
  },
  {
   "cell_type": "code",
   "execution_count": 7,
   "metadata": {},
   "outputs": [
    {
     "name": "stderr",
     "output_type": "stream",
     "text": [
      "100%|██████████████████████████████████████████████████████████████████████████████████████████| 29/29 [00:00<?, ?it/s]\n"
     ]
    }
   ],
   "source": [
    "paper_url = []\n",
    "\n",
    "for paper_link in tqdm(paper_link_list):\n",
    "    tmp_url = \"http://www.riss.kr\" + paper_link\n",
    "    paper_url.append(tmp_url)"
   ]
  },
  {
   "cell_type": "code",
   "execution_count": 8,
   "metadata": {},
   "outputs": [
    {
     "data": {
      "text/plain": [
       "['http://www.riss.kr/search/detail/DetailView.do?p_mat_type=1a0202e37d52c72d&control_no=9e12648df05ac655ffe0bdc3ef48d419',\n",
       " 'http://www.riss.kr/search/detail/DetailView.do?p_mat_type=1a0202e37d52c72d&control_no=623f51eb63575b6fffe0bdc3ef48d419',\n",
       " 'http://www.riss.kr/search/detail/DetailView.do?p_mat_type=1a0202e37d52c72d&control_no=f1a3bc75b7b30623ffe0bdc3ef48d419',\n",
       " 'http://www.riss.kr/search/detail/DetailView.do?p_mat_type=1a0202e37d52c72d&control_no=f1490ef100019013ffe0bdc3ef48d419',\n",
       " 'http://www.riss.kr/search/detail/DetailView.do?p_mat_type=1a0202e37d52c72d&control_no=c83d9cb696950e8dd18150b21a227875',\n",
       " 'http://www.riss.kr/search/detail/DetailView.do?p_mat_type=1a0202e37d52c72d&control_no=021f00b73cc4b7147f7a54760bb41745',\n",
       " 'http://www.riss.kr/search/detail/DetailView.do?p_mat_type=1a0202e37d52c72d&control_no=82b84c49ce4a83ace9810257f7042666',\n",
       " 'http://www.riss.kr/search/detail/DetailView.do?p_mat_type=1a0202e37d52c72d&control_no=2bb01c073d5817ee7f7a54760bb41745',\n",
       " 'http://www.riss.kr/search/detail/DetailView.do?p_mat_type=1a0202e37d52c72d&control_no=bb087d0622ddbe7447de9c1710b0298d',\n",
       " 'http://www.riss.kr/search/detail/DetailView.do?p_mat_type=1a0202e37d52c72d&control_no=bb087d0622ddbe747ecd42904f0c5d65',\n",
       " 'http://www.riss.kr/search/detail/DetailView.do?p_mat_type=1a0202e37d52c72d&control_no=171cea8fbe51ca9fffe0bdc3ef48d419',\n",
       " 'http://www.riss.kr/search/detail/DetailView.do?p_mat_type=1a0202e37d52c72d&control_no=d6815682bc2cea48ffe0bdc3ef48d419',\n",
       " 'http://www.riss.kr/search/detail/DetailView.do?p_mat_type=1a0202e37d52c72d&control_no=1b7e9ad23d924f5de9810257f7042666',\n",
       " 'http://www.riss.kr/search/detail/DetailView.do?p_mat_type=1a0202e37d52c72d&control_no=ae1d198c47b94ce9b7998d826d417196',\n",
       " 'http://www.riss.kr/search/detail/DetailView.do?p_mat_type=1a0202e37d52c72d&control_no=d220cdfdf260be8cd18150b21a227875',\n",
       " 'http://www.riss.kr/search/detail/DetailView.do?p_mat_type=1a0202e37d52c72d&control_no=7c750ca54562eb577ecd42904f0c5d65',\n",
       " 'http://www.riss.kr/search/detail/DetailView.do?p_mat_type=1a0202e37d52c72d&control_no=1a8884efe9072858ffe0bdc3ef48d419',\n",
       " 'http://www.riss.kr/search/detail/DetailView.do?p_mat_type=1a0202e37d52c72d&control_no=76773b58a1d09d14ffe0bdc3ef48d419',\n",
       " 'http://www.riss.kr/search/detail/DetailView.do?p_mat_type=1a0202e37d52c72d&control_no=a1e9d3005155423effe0bdc3ef48d419',\n",
       " 'http://www.riss.kr/search/detail/DetailView.do?p_mat_type=1a0202e37d52c72d&control_no=4e1f89a6459bf0d6b7998d826d417196',\n",
       " 'http://www.riss.kr/search/detail/DetailView.do?p_mat_type=1a0202e37d52c72d&control_no=14d9b22593b00dca4884a65323211ff0',\n",
       " 'http://www.riss.kr/search/detail/DetailView.do?p_mat_type=1a0202e37d52c72d&control_no=2b3425424a834f6ab7998d826d417196',\n",
       " 'http://www.riss.kr/search/detail/DetailView.do?p_mat_type=1a0202e37d52c72d&control_no=595e04ba27a597396aae8a972f9116fb',\n",
       " 'http://www.riss.kr/search/detail/DetailView.do?p_mat_type=1a0202e37d52c72d&control_no=df071a480b830da4ffe0bdc3ef48d419',\n",
       " 'http://www.riss.kr/search/detail/DetailView.do?p_mat_type=1a0202e37d52c72d&control_no=e939ec9dffbe8d1d4884a65323211ff0',\n",
       " 'http://www.riss.kr/search/detail/DetailView.do?p_mat_type=1a0202e37d52c72d&control_no=85e9a616b1aff853e9810257f7042666',\n",
       " 'http://www.riss.kr/search/detail/DetailView.do?p_mat_type=1a0202e37d52c72d&control_no=0ea89f4db46557f4ffe0bdc3ef48d419',\n",
       " 'http://www.riss.kr/search/detail/DetailView.do?p_mat_type=1a0202e37d52c72d&control_no=38a386152f3f6240ffe0bdc3ef48d419',\n",
       " 'http://www.riss.kr/search/detail/DetailView.do?p_mat_type=1a0202e37d52c72d&control_no=bb30744277a74d01ffe0bdc3ef48d419']"
      ]
     },
     "execution_count": 8,
     "metadata": {},
     "output_type": "execute_result"
    }
   ],
   "source": [
    "paper_url"
   ]
  },
  {
   "cell_type": "code",
   "execution_count": 9,
   "metadata": {},
   "outputs": [
    {
     "data": {
      "text/plain": [
       "29"
      ]
     },
     "execution_count": 9,
     "metadata": {},
     "output_type": "execute_result"
    }
   ],
   "source": [
    "len(paper_url)"
   ]
  },
  {
   "cell_type": "code",
   "execution_count": 10,
   "metadata": {},
   "outputs": [],
   "source": [
    "write_wb = openpyxl.Workbook()\n",
    "write_ws = write_wb.active"
   ]
  },
  {
   "cell_type": "code",
   "execution_count": 11,
   "metadata": {},
   "outputs": [
    {
     "data": {
      "text/plain": [
       "\"\\nwrite_ws = write_wb.active\\nwrite_ws['A1'] = 'title_kor'\\nwrite_ws['B1'] = 'title_eng'\\nwrite_ws['C1'] = 'author'\\nwrite_ws['D1'] = 'book'\\nwrite_ws['E1'] = 'year'\\nwrite_ws['F1'] = 'keyword'\\nwrite_ws['G1'] = 'abstract_kor'\\nwrite_ws['H1'] = 'abstract_eng'\\n\""
      ]
     },
     "execution_count": 11,
     "metadata": {},
     "output_type": "execute_result"
    }
   ],
   "source": [
    "\"\"\"\n",
    "write_ws = write_wb.active\n",
    "write_ws['A1'] = 'title_kor'\n",
    "write_ws['B1'] = 'title_eng'\n",
    "write_ws['C1'] = 'author'\n",
    "write_ws['D1'] = 'book'\n",
    "write_ws['E1'] = 'year'\n",
    "write_ws['F1'] = 'keyword'\n",
    "write_ws['G1'] = 'abstract_kor'\n",
    "write_ws['H1'] = 'abstract_eng'\n",
    "\"\"\""
   ]
  },
  {
   "cell_type": "code",
   "execution_count": 12,
   "metadata": {},
   "outputs": [],
   "source": [
    "write_ws = write_wb.active\n",
    "write_ws['A1'] = 'title'\n",
    "write_ws['B1'] = 'author'\n",
    "write_ws['C1'] = 'book'\n",
    "write_ws['D1'] = 'year'\n",
    "write_ws['E1'] = 'keyword'\n",
    "write_ws['F1'] = 'abstract_kor'\n",
    "write_ws['G1'] = 'abstract_eng'"
   ]
  },
  {
   "cell_type": "code",
   "execution_count": 13,
   "metadata": {
    "scrolled": true
   },
   "outputs": [
    {
     "name": "stdout",
     "output_type": "stream",
     "text": [
      "0 paper clear\n",
      "1 paper clear\n",
      "2 paper clear\n",
      "3 paper clear\n",
      "4 paper clear\n",
      "5 paper clear\n",
      "6 paper clear\n",
      "7 paper clear\n",
      "8 ERROR\n",
      "9 ERROR\n",
      "10 ERROR\n",
      "11 ERROR\n",
      "12 paper clear\n",
      "13 ERROR\n",
      "14 ERROR\n",
      "15 ERROR\n",
      "16 ERROR\n",
      "17 ERROR\n",
      "18 paper clear\n",
      "19 paper clear\n",
      "20 paper clear\n",
      "21 ERROR\n",
      "22 ERROR\n",
      "23 paper clear\n",
      "24 paper clear\n",
      "25 paper clear\n",
      "26 paper clear\n",
      "27 paper clear\n",
      "28 paper clear\n",
      "Running Time :  11.94276762008667\n"
     ]
    }
   ],
   "source": [
    "start = time.time()\n",
    "\n",
    "for i, url in enumerate(paper_url):\n",
    "    res = requests.get(url, headers = custom_header)\n",
    "    element = lxml.html.fromstring(res.text)\n",
    "\n",
    "    try:\n",
    "        tmp_title = element.cssselect('h3.title')\n",
    "        tmp_title = tmp_title[0].text_content()\n",
    "        tmp_title = tmp_title.split(\"=\")\n",
    "        title_kor = tmp_title[0].strip()\n",
    "        #title_eng = tmp_title[1].strip()\n",
    "\n",
    "        tmp_author = element.cssselect('div.infoDetailL > ul > li:nth-child(1) > div > p')\n",
    "        author = tmp_author[0].text_content().strip()\n",
    "\n",
    "        tmp_book = element.cssselect('div.infoDetailL > ul > li:nth-child(3) > div > p')\n",
    "        book = tmp_book[0].text_content().strip()\n",
    "\n",
    "        tmp_year = element.cssselect('div.infoDetailL > ul > li:nth-child(5) > div > p')\n",
    "        year = tmp_year[0].text_content().strip()\n",
    "\n",
    "        tmp_keyword = element.cssselect('div.infoDetailL > ul > li:nth-child(7) > div > p')\n",
    "        keyword = tmp_keyword[0].text_content().strip()\n",
    "\n",
    "        tmp_abstract = element.cssselect('div.text.off')\n",
    "        abstract_kor = tmp_abstract[0].text_content().strip()\n",
    "        abstract_eng = tmp_abstract[1].text_content().strip()\n",
    "\n",
    "        print(i, 'paper clear')\n",
    "\n",
    "    except:\n",
    "        print(i, 'ERROR')\n",
    "        continue\n",
    "\n",
    "\n",
    "    write_ws.append([title_kor, author, book, year, keyword, abstract_kor, abstract_eng])\n",
    "    write_wb.save('./10_빅데이터.xlsx')\n",
    "    \n",
    "print(\"Running Time : \", time.time() - start)"
   ]
  },
  {
   "cell_type": "code",
   "execution_count": null,
   "metadata": {},
   "outputs": [],
   "source": []
  }
 ],
 "metadata": {
  "kernelspec": {
   "display_name": "Python 3",
   "language": "python",
   "name": "python3"
  },
  "language_info": {
   "codemirror_mode": {
    "name": "ipython",
    "version": 3
   },
   "file_extension": ".py",
   "mimetype": "text/x-python",
   "name": "python",
   "nbconvert_exporter": "python",
   "pygments_lexer": "ipython3",
   "version": "3.7.9"
  }
 },
 "nbformat": 4,
 "nbformat_minor": 2
}
