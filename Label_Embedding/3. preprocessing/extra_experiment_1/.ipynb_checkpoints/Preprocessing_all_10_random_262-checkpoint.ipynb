{
 "cells": [
  {
   "cell_type": "code",
   "execution_count": null,
   "metadata": {},
   "outputs": [],
   "source": [
    "from tqdm.notebook import tqdm\n",
    "from collections import Counter\n",
    "\n",
    "import pandas as pd\n",
    "import numpy as np\n",
    "import re\n",
    "import random\n",
    "import matplotlib.pyplot as plt"
   ]
  },
  {
   "cell_type": "code",
   "execution_count": null,
   "metadata": {},
   "outputs": [],
   "source": [
    "random.seed(42)"
   ]
  },
  {
   "cell_type": "code",
   "execution_count": null,
   "metadata": {},
   "outputs": [],
   "source": [
    "paper_all = pd.read_excel('./paper_all_1_5.xlsx')"
   ]
  },
  {
   "cell_type": "code",
   "execution_count": null,
   "metadata": {
    "scrolled": true
   },
   "outputs": [],
   "source": [
    "#paper_all"
   ]
  },
  {
   "cell_type": "code",
   "execution_count": null,
   "metadata": {},
   "outputs": [],
   "source": [
    "len(paper_all)"
   ]
  },
  {
   "cell_type": "code",
   "execution_count": null,
   "metadata": {
    "scrolled": true
   },
   "outputs": [],
   "source": [
    "\"\"\"paper_all = paper_all.drop(['Unnamed: 0'], axis = 1)\n",
    "paper_all\"\"\""
   ]
  },
  {
   "cell_type": "markdown",
   "metadata": {},
   "source": [
    "# 중복제거"
   ]
  },
  {
   "cell_type": "code",
   "execution_count": null,
   "metadata": {
    "scrolled": true
   },
   "outputs": [],
   "source": [
    "paper_all_dupli = paper_all.drop_duplicates(['title', 'author', 'book', 'year', 'keyword', 'abstract_kor', 'abstract_eng'], keep = 'first', ignore_index = True)\n",
    "paper_all_dupli"
   ]
  },
  {
   "cell_type": "code",
   "execution_count": null,
   "metadata": {},
   "outputs": [],
   "source": [
    "len(paper_all_dupli)"
   ]
  },
  {
   "cell_type": "markdown",
   "metadata": {},
   "source": [
    "# 키워드 공백 제거"
   ]
  },
  {
   "cell_type": "code",
   "execution_count": null,
   "metadata": {
    "scrolled": true
   },
   "outputs": [],
   "source": [
    "paper_all_dupli['keyword_strip'] = pd.Series()\n",
    "\n",
    "for i in tqdm(range(len(paper_all_dupli))):\n",
    "    paper_all_dupli['keyword_strip'][i] = paper_all_dupli['keyword'][i].replace('\\r', '').replace('\\n', '').replace('\\t', '').replace(' ', '')\n",
    "    #print(paper_all_dupli['keyword_strip'][i])"
   ]
  },
  {
   "cell_type": "code",
   "execution_count": null,
   "metadata": {
    "scrolled": true
   },
   "outputs": [],
   "source": [
    "#paper_all_dupli"
   ]
  },
  {
   "cell_type": "code",
   "execution_count": null,
   "metadata": {},
   "outputs": [],
   "source": [
    "#paper_all_dupli['keyword_strip']"
   ]
  },
  {
   "cell_type": "markdown",
   "metadata": {},
   "source": [
    "# 국문 초록 공백 제거"
   ]
  },
  {
   "cell_type": "code",
   "execution_count": null,
   "metadata": {
    "scrolled": true
   },
   "outputs": [],
   "source": [
    "paper_all_dupli['abstract_kor_strip'] = pd.Series()\n",
    "\n",
    "for i in tqdm(range(len(paper_all_dupli))):\n",
    "    if type(paper_all_dupli['abstract_kor'][i]) == float:\n",
    "        paper_all_dupli['abstract_kor_strip'][i] = paper_all_dupli['abstract_kor'][i]\n",
    "    else:\n",
    "        paper_all_dupli['abstract_kor_strip'][i] = paper_all_dupli['abstract_kor'][i].replace('\\r', '').replace('\\n', '').replace('\\t', '')\n",
    "    #print(paper_all_dupli['abstract_kor_strip'][i])"
   ]
  },
  {
   "cell_type": "code",
   "execution_count": null,
   "metadata": {
    "scrolled": true
   },
   "outputs": [],
   "source": [
    "#paper_all_dupli"
   ]
  },
  {
   "cell_type": "code",
   "execution_count": null,
   "metadata": {},
   "outputs": [],
   "source": [
    "#paper_all_dupli['abstract_kor_strip'][107]"
   ]
  },
  {
   "cell_type": "markdown",
   "metadata": {},
   "source": [
    "# 영문 초록 공백 제거"
   ]
  },
  {
   "cell_type": "code",
   "execution_count": null,
   "metadata": {
    "scrolled": true
   },
   "outputs": [],
   "source": [
    "paper_all_dupli['abstract_eng_strip'] = pd.Series()\n",
    "\n",
    "for i in tqdm(range(len(paper_all_dupli))):\n",
    "    if type(paper_all_dupli['abstract_eng'][i]) == float:\n",
    "        paper_all_dupli['abstract_eng_strip'][i] = paper_all_dupli['abstract_eng'][i]\n",
    "    else:\n",
    "        paper_all_dupli['abstract_eng_strip'][i] = paper_all_dupli['abstract_eng'][i].replace('\\r', '').replace('\\n', '').replace('\\t', '')\n",
    "    #print(paper_all_dupli['abstract_kor_strip'][i])"
   ]
  },
  {
   "cell_type": "code",
   "execution_count": null,
   "metadata": {
    "scrolled": true
   },
   "outputs": [],
   "source": [
    "#paper_all_dupli"
   ]
  },
  {
   "cell_type": "code",
   "execution_count": null,
   "metadata": {},
   "outputs": [],
   "source": [
    "#paper_all_dupli['abstract_eng_strip'][107]"
   ]
  },
  {
   "cell_type": "markdown",
   "metadata": {},
   "source": [
    "# 한글 키워드 추출"
   ]
  },
  {
   "cell_type": "code",
   "execution_count": null,
   "metadata": {},
   "outputs": [],
   "source": [
    "def isKoreanIncluded(word):\n",
    "    for i in word:\n",
    "        if ord(i) > int('0x1100',16) and ord(i) < int('0x11ff',16) :\n",
    "            return True\n",
    "        if ord(i) > int('0x3131',16) and ord(i) < int('0x318e',16) :\n",
    "            return True\n",
    "        if ord(i) > int('0xa960',16) and ord(i) < int('0xa97c',16) :\n",
    "            return True\n",
    "        if ord(i) > int('0xac00',16) and ord(i) < int('0xd7a3',16) :\n",
    "            return True\n",
    "        if ord(i) > int('0xd7b0',16) and ord(i) < int('0xd7fb',16) :\n",
    "            return True\n",
    "\n",
    "    return False"
   ]
  },
  {
   "cell_type": "code",
   "execution_count": null,
   "metadata": {
    "scrolled": true
   },
   "outputs": [],
   "source": [
    "paper_keyword = pd.DataFrame()\n",
    "\n",
    "\n",
    "for i, kor in tqdm(enumerate(paper_all_dupli['keyword_strip'])):\n",
    "    if isKoreanIncluded(kor):\n",
    "        paper_keyword = pd.concat([paper_keyword, paper_all_dupli[paper_all_dupli.index == i]], axis = 0)\n",
    "    else:\n",
    "        #print(paper_all_dupli['keyword_strip'][i])\n",
    "        print(i)"
   ]
  },
  {
   "cell_type": "code",
   "execution_count": null,
   "metadata": {
    "scrolled": true
   },
   "outputs": [],
   "source": [
    "#paper_keyword"
   ]
  },
  {
   "cell_type": "code",
   "execution_count": null,
   "metadata": {
    "scrolled": true
   },
   "outputs": [],
   "source": [
    "paper_keyword_kor = paper_keyword.reset_index(drop=True)\n",
    "paper_keyword_kor"
   ]
  },
  {
   "cell_type": "code",
   "execution_count": null,
   "metadata": {
    "scrolled": true
   },
   "outputs": [],
   "source": [
    "paper_keyword_kor['keyword_kor'] = pd.Series()\n",
    "\n",
    "\n",
    "for i, keywords in tqdm(enumerate(paper_keyword_kor['keyword_strip'])):\n",
    "    tmp_list = []\n",
    "    for keyword in keywords.split(','):\n",
    "        if isKoreanIncluded(keyword):\n",
    "            tmp_list.append(keyword)\n",
    "    tmp = list(filter(None, tmp_list))\n",
    "    paper_keyword_kor.keyword_kor[i] = tmp"
   ]
  },
  {
   "cell_type": "code",
   "execution_count": null,
   "metadata": {
    "scrolled": true
   },
   "outputs": [],
   "source": [
    "#paper_keyword_kor"
   ]
  },
  {
   "cell_type": "code",
   "execution_count": null,
   "metadata": {
    "scrolled": true
   },
   "outputs": [],
   "source": [
    "len(paper_keyword_kor)"
   ]
  },
  {
   "cell_type": "code",
   "execution_count": null,
   "metadata": {},
   "outputs": [],
   "source": [
    "#paper_keyword_kor['keyword_kor'][107]"
   ]
  },
  {
   "cell_type": "markdown",
   "metadata": {},
   "source": [
    "# 키워드 전처리(괄호 제거)"
   ]
  },
  {
   "cell_type": "code",
   "execution_count": null,
   "metadata": {
    "scrolled": true
   },
   "outputs": [],
   "source": [
    "paper_keyword_etc = paper_keyword_kor.copy()\n",
    "paper_keyword_etc"
   ]
  },
  {
   "cell_type": "code",
   "execution_count": null,
   "metadata": {},
   "outputs": [],
   "source": [
    "#paper_keyword_etc['keyword_kor'][107]"
   ]
  },
  {
   "cell_type": "code",
   "execution_count": null,
   "metadata": {
    "scrolled": true
   },
   "outputs": [],
   "source": [
    "paper_keyword_etc['keyword_pre'] = pd.Series()\n",
    "\n",
    "\n",
    "hangul = re.compile('[^ ㄱ-ㅣ가-힣]+')\n",
    "for i, keywords in tqdm(enumerate(paper_keyword_etc['keyword_kor'])):\n",
    "    keywords_list = []\n",
    "    for keyword in keywords:\n",
    "        if keyword != 'KCI등재':\n",
    "            if not keyword.isalnum():\n",
    "                new_keyword = hangul.sub('', keyword)\n",
    "                keywords_list.append(new_keyword)\n",
    "            else:\n",
    "                keywords_list.append(keyword)\n",
    "    \n",
    "    paper_keyword_etc.keyword_pre[i] = keywords_list"
   ]
  },
  {
   "cell_type": "code",
   "execution_count": null,
   "metadata": {},
   "outputs": [],
   "source": [
    "#paper_keyword_etc['keyword_pre'][107]"
   ]
  },
  {
   "cell_type": "markdown",
   "metadata": {},
   "source": [
    "# 국문 초록에서 한글 추출"
   ]
  },
  {
   "cell_type": "code",
   "execution_count": null,
   "metadata": {},
   "outputs": [],
   "source": [
    "def isKoreanIncluded(word):\n",
    "    for i in word:\n",
    "        if ord(i) > int('0x1100',16) and ord(i) < int('0x11ff',16) :\n",
    "            return True\n",
    "        if ord(i) > int('0x3131',16) and ord(i) < int('0x318e',16) :\n",
    "            return True\n",
    "        if ord(i) > int('0xa960',16) and ord(i) < int('0xa97c',16) :\n",
    "            return True\n",
    "        if ord(i) > int('0xac00',16) and ord(i) < int('0xd7a3',16) :\n",
    "            return True\n",
    "        if ord(i) > int('0xd7b0',16) and ord(i) < int('0xd7fb',16) :\n",
    "            return True\n",
    "\n",
    "    return False"
   ]
  },
  {
   "cell_type": "code",
   "execution_count": null,
   "metadata": {},
   "outputs": [],
   "source": [
    "paper_abstract_kor = pd.DataFrame()\n",
    "\n",
    "\n",
    "for i, kor in tqdm(enumerate(paper_keyword_etc['abstract_kor_strip'])):\n",
    "    if isKoreanIncluded(kor):\n",
    "        paper_abstract_kor = pd.concat([paper_abstract_kor, paper_keyword_etc[paper_keyword_etc.index == i]], axis = 0)\n",
    "    else:\n",
    "        print(i)\n",
    "        #print(paper_keyword_etc['abstract_kor_strip'][i])"
   ]
  },
  {
   "cell_type": "code",
   "execution_count": null,
   "metadata": {
    "scrolled": true
   },
   "outputs": [],
   "source": [
    "#paper_abstract_kor"
   ]
  },
  {
   "cell_type": "code",
   "execution_count": null,
   "metadata": {},
   "outputs": [],
   "source": [
    "paper_abstract_kor['abstract'] = paper_abstract_kor['abstract_kor_strip']"
   ]
  },
  {
   "cell_type": "code",
   "execution_count": null,
   "metadata": {},
   "outputs": [],
   "source": [
    "len(paper_abstract_kor)"
   ]
  },
  {
   "cell_type": "code",
   "execution_count": null,
   "metadata": {
    "scrolled": true
   },
   "outputs": [],
   "source": [
    "#paper_abstract_kor"
   ]
  },
  {
   "cell_type": "code",
   "execution_count": null,
   "metadata": {},
   "outputs": [],
   "source": [
    "paper_abstract_kor = paper_abstract_kor.reset_index(drop = True)"
   ]
  },
  {
   "cell_type": "code",
   "execution_count": null,
   "metadata": {
    "scrolled": true
   },
   "outputs": [],
   "source": [
    "#paper_abstract_kor"
   ]
  },
  {
   "cell_type": "code",
   "execution_count": null,
   "metadata": {},
   "outputs": [],
   "source": [
    "len(paper_abstract_kor)"
   ]
  },
  {
   "cell_type": "markdown",
   "metadata": {},
   "source": [
    "# 영문 초록 한글 추출"
   ]
  },
  {
   "cell_type": "code",
   "execution_count": null,
   "metadata": {},
   "outputs": [],
   "source": [
    "paper_abstract_eng = pd.DataFrame()\n",
    "\n",
    "\n",
    "for i, eng in tqdm(enumerate(paper_keyword_etc['abstract_eng_strip'])):\n",
    "    if isKoreanIncluded(eng):\n",
    "        paper_abstract_eng = pd.concat([paper_abstract_eng, paper_keyword_etc[paper_keyword_etc.index == i]], axis = 0)\n",
    "    else:\n",
    "        print(i)\n",
    "        #print(paper_keyword_etc['abstract_eng_strip'][i])"
   ]
  },
  {
   "cell_type": "code",
   "execution_count": null,
   "metadata": {
    "scrolled": true
   },
   "outputs": [],
   "source": [
    "#paper_abstract_eng"
   ]
  },
  {
   "cell_type": "code",
   "execution_count": null,
   "metadata": {},
   "outputs": [],
   "source": [
    "paper_abstract_eng['abstract'] = paper_abstract_eng['abstract_eng_strip']"
   ]
  },
  {
   "cell_type": "code",
   "execution_count": null,
   "metadata": {},
   "outputs": [],
   "source": [
    "len(paper_abstract_eng)"
   ]
  },
  {
   "cell_type": "code",
   "execution_count": null,
   "metadata": {
    "scrolled": true
   },
   "outputs": [],
   "source": [
    "#paper_abstract_eng"
   ]
  },
  {
   "cell_type": "code",
   "execution_count": null,
   "metadata": {},
   "outputs": [],
   "source": [
    "paper_abstract_eng = paper_abstract_eng.reset_index(drop = True)"
   ]
  },
  {
   "cell_type": "code",
   "execution_count": null,
   "metadata": {
    "scrolled": true
   },
   "outputs": [],
   "source": [
    "#paper_abstract_eng"
   ]
  },
  {
   "cell_type": "code",
   "execution_count": null,
   "metadata": {},
   "outputs": [],
   "source": [
    "len(paper_abstract_eng)"
   ]
  },
  {
   "cell_type": "markdown",
   "metadata": {},
   "source": [
    "# 초록 합치기"
   ]
  },
  {
   "cell_type": "code",
   "execution_count": null,
   "metadata": {},
   "outputs": [],
   "source": [
    "paper_abstract_fusion = pd.concat([paper_abstract_kor, paper_abstract_eng], ignore_index=True)"
   ]
  },
  {
   "cell_type": "code",
   "execution_count": null,
   "metadata": {},
   "outputs": [],
   "source": [
    "#paper_abstract_fusion"
   ]
  },
  {
   "cell_type": "code",
   "execution_count": null,
   "metadata": {},
   "outputs": [],
   "source": [
    "len(paper_abstract_fusion)"
   ]
  },
  {
   "cell_type": "code",
   "execution_count": null,
   "metadata": {},
   "outputs": [],
   "source": []
  },
  {
   "cell_type": "code",
   "execution_count": null,
   "metadata": {
    "scrolled": true
   },
   "outputs": [],
   "source": [
    "paper_fusion = paper_abstract_fusion.drop(['keyword', 'abstract_kor', 'abstract_eng', 'keyword_strip', 'abstract_kor_strip', 'abstract_eng_strip'], axis = 1)\n",
    "#paper_fusion"
   ]
  },
  {
   "cell_type": "markdown",
   "metadata": {},
   "source": [
    "# 중복 제거"
   ]
  },
  {
   "cell_type": "code",
   "execution_count": null,
   "metadata": {
    "scrolled": true
   },
   "outputs": [],
   "source": [
    "paper_fusion_dupli = paper_fusion.drop_duplicates(['title', 'author', 'book', 'year'], keep = 'first', ignore_index = True)\n",
    "#paper_fusion_dupli"
   ]
  },
  {
   "cell_type": "code",
   "execution_count": null,
   "metadata": {},
   "outputs": [],
   "source": [
    "len(paper_fusion_dupli)"
   ]
  },
  {
   "cell_type": "markdown",
   "metadata": {},
   "source": [
    "# 5문장 이상인 초록 추출"
   ]
  },
  {
   "cell_type": "code",
   "execution_count": null,
   "metadata": {},
   "outputs": [],
   "source": [
    "paper_abstract_5 = pd.DataFrame()\n",
    "\n",
    "for i, abstract in tqdm(enumerate(paper_fusion_dupli['abstract'])):\n",
    "    if len(abstract.split('. ')) >= 5:\n",
    "        paper_abstract_5 = pd.concat([paper_abstract_5, paper_fusion_dupli[paper_fusion_dupli.index == i]], axis = 0)"
   ]
  },
  {
   "cell_type": "code",
   "execution_count": null,
   "metadata": {
    "scrolled": true
   },
   "outputs": [],
   "source": [
    "#paper_abstract_5"
   ]
  },
  {
   "cell_type": "code",
   "execution_count": null,
   "metadata": {},
   "outputs": [],
   "source": [
    "len(paper_abstract_5)"
   ]
  },
  {
   "cell_type": "code",
   "execution_count": null,
   "metadata": {},
   "outputs": [],
   "source": [
    "paper_abstract_5 = paper_abstract_5.reset_index(drop = True)"
   ]
  },
  {
   "cell_type": "code",
   "execution_count": null,
   "metadata": {
    "scrolled": true
   },
   "outputs": [],
   "source": [
    "#paper_abstract_5"
   ]
  },
  {
   "cell_type": "code",
   "execution_count": null,
   "metadata": {},
   "outputs": [],
   "source": [
    "#paper_abstract_5.to_csv('./paper_abstract_5.csv')"
   ]
  },
  {
   "cell_type": "markdown",
   "metadata": {},
   "source": [
    "# 초록에서 한글 개수 이상치 제거(초록 아닌 것들 제거하기 위해)"
   ]
  },
  {
   "cell_type": "code",
   "execution_count": null,
   "metadata": {},
   "outputs": [],
   "source": [
    "result_list_k = []\n",
    "len_list_k = []\n",
    "\n",
    "\n",
    "hangul = re.compile('[^ ㄱ-ㅣ가-힣]+')\n",
    "for i, abst in enumerate(paper_abstract_5['abstract']):\n",
    "    result = hangul.sub('', abst)\n",
    "    #result = hangul.findall(abst)\n",
    "    result = result.replace(' ', '')\n",
    "    result_list_k.append(result)\n",
    "    len_list_k.append(len(result))\n",
    "    if len(result) <= 150:\n",
    "        print(i)\n",
    "        #print(abst)\n",
    "        #print('\\n')"
   ]
  },
  {
   "cell_type": "code",
   "execution_count": null,
   "metadata": {},
   "outputs": [],
   "source": [
    "#paper_abstract_5['abstract'][3]"
   ]
  },
  {
   "cell_type": "code",
   "execution_count": null,
   "metadata": {
    "scrolled": true
   },
   "outputs": [],
   "source": [
    "#paper_abstract_5"
   ]
  },
  {
   "cell_type": "code",
   "execution_count": null,
   "metadata": {},
   "outputs": [],
   "source": [
    "#result_list_k[8]"
   ]
  },
  {
   "cell_type": "code",
   "execution_count": null,
   "metadata": {},
   "outputs": [],
   "source": [
    "len(result_list_k[107])"
   ]
  },
  {
   "cell_type": "code",
   "execution_count": null,
   "metadata": {},
   "outputs": [],
   "source": [
    "print('초록의 최대 길이 :',max(len(l) for l in result_list_k))\n",
    "print('초록의 최소 길이 :',min(len(l) for l in result_list_k))\n",
    "print('초록의 평균 길이 :',sum(map(len, result_list_k))/len(result_list_k))\n",
    "plt.hist([len(s) for s in result_list_k], bins=50)\n",
    "plt.xlabel('length of samples')\n",
    "plt.ylabel('number of samples')\n",
    "plt.show()"
   ]
  },
  {
   "cell_type": "code",
   "execution_count": null,
   "metadata": {},
   "outputs": [],
   "source": [
    "paper_abstract_150 = pd.DataFrame()\n",
    "\n",
    "\n",
    "hangul = re.compile('[^ ㄱ-ㅣ가-힣]+')\n",
    "for i, abst in tqdm(enumerate(paper_abstract_5['abstract'])):\n",
    "    result = hangul.sub('', abst)\n",
    "    #result = hangul.findall(abst)\n",
    "    result = result.replace(' ', '')\n",
    "    if len(result) > 150:\n",
    "        paper_abstract_150 = pd.concat([paper_abstract_150, paper_abstract_5[paper_abstract_5.index == i]], axis = 0)"
   ]
  },
  {
   "cell_type": "code",
   "execution_count": null,
   "metadata": {
    "scrolled": true
   },
   "outputs": [],
   "source": [
    "#paper_abstract_150"
   ]
  },
  {
   "cell_type": "code",
   "execution_count": null,
   "metadata": {},
   "outputs": [],
   "source": [
    "len(paper_abstract_150)"
   ]
  },
  {
   "cell_type": "code",
   "execution_count": null,
   "metadata": {},
   "outputs": [],
   "source": [
    "paper_abstract_150 = paper_abstract_150.reset_index(drop = True)"
   ]
  },
  {
   "cell_type": "code",
   "execution_count": null,
   "metadata": {
    "scrolled": true
   },
   "outputs": [],
   "source": [
    "#paper_abstract_150"
   ]
  },
  {
   "cell_type": "markdown",
   "metadata": {},
   "source": [
    "# 초록에서 영어 개수 이상치 제거(초록 아닌 것들 제거하기 위해)"
   ]
  },
  {
   "cell_type": "code",
   "execution_count": null,
   "metadata": {
    "scrolled": true
   },
   "outputs": [],
   "source": [
    "result_list_e = []\n",
    "len_list_e = []\n",
    "\n",
    "\n",
    "hangul = re.compile('[^ a-zA-Z]+')\n",
    "for i, abst in enumerate(paper_abstract_150['abstract']):\n",
    "    result = hangul.sub('', abst)\n",
    "    #result = hangul.findall(abst)\n",
    "    result = result.replace(' ', '')\n",
    "    result_list_e.append(result)\n",
    "    len_list_e.append(len(result))\n",
    "    if len(result) >= 450:\n",
    "        print(i)\n",
    "        #print(abst)\n",
    "        #print('\\n')"
   ]
  },
  {
   "cell_type": "code",
   "execution_count": null,
   "metadata": {
    "scrolled": false
   },
   "outputs": [],
   "source": [
    "#paper_abstract_150['abstract'][107]"
   ]
  },
  {
   "cell_type": "code",
   "execution_count": null,
   "metadata": {},
   "outputs": [],
   "source": [
    "#result_list_e[107]"
   ]
  },
  {
   "cell_type": "code",
   "execution_count": null,
   "metadata": {},
   "outputs": [],
   "source": [
    "len(result_list_e[107])"
   ]
  },
  {
   "cell_type": "code",
   "execution_count": null,
   "metadata": {},
   "outputs": [],
   "source": [
    "print('초록의 최대 길이 :',max(len(l) for l in result_list_e))\n",
    "print('초록의 최소 길이 :',min(len(l) for l in result_list_e))\n",
    "print('초록의 평균 길이 :',sum(map(len, result_list_e))/len(result_list_e))\n",
    "plt.hist([len(s) for s in result_list_e], bins=50)\n",
    "plt.xlabel('length of samples')\n",
    "plt.ylabel('number of samples')\n",
    "plt.show()"
   ]
  },
  {
   "cell_type": "code",
   "execution_count": null,
   "metadata": {},
   "outputs": [],
   "source": [
    "paper_abstract_450 = pd.DataFrame()\n",
    "\n",
    "\n",
    "hangul = re.compile('[^ a-zA-Z]+')\n",
    "for i, abst in tqdm(enumerate(paper_abstract_150['abstract'])):\n",
    "    result = hangul.sub('', abst)\n",
    "    #result = hangul.findall(abst)\n",
    "    result = result.replace(' ', '')\n",
    "    if len(result) < 450:\n",
    "        paper_abstract_450 = pd.concat([paper_abstract_450, paper_abstract_150[paper_abstract_150.index == i]], axis = 0)"
   ]
  },
  {
   "cell_type": "code",
   "execution_count": null,
   "metadata": {
    "scrolled": true
   },
   "outputs": [],
   "source": [
    "#paper_abstract_450"
   ]
  },
  {
   "cell_type": "code",
   "execution_count": null,
   "metadata": {},
   "outputs": [],
   "source": [
    "len(paper_abstract_450)"
   ]
  },
  {
   "cell_type": "code",
   "execution_count": null,
   "metadata": {},
   "outputs": [],
   "source": [
    "paper_abstract_450 = paper_abstract_450.reset_index(drop = True)"
   ]
  },
  {
   "cell_type": "code",
   "execution_count": null,
   "metadata": {
    "scrolled": true
   },
   "outputs": [],
   "source": [
    "#paper_abstract_450"
   ]
  },
  {
   "cell_type": "markdown",
   "metadata": {},
   "source": [
    "# 키워드 개수 확인"
   ]
  },
  {
   "cell_type": "code",
   "execution_count": null,
   "metadata": {
    "scrolled": true
   },
   "outputs": [],
   "source": [
    "paper = paper_abstract_450.copy()\n",
    "paper"
   ]
  },
  {
   "cell_type": "code",
   "execution_count": null,
   "metadata": {},
   "outputs": [],
   "source": [
    "keyword_count_list = []\n",
    "\n",
    "for keywords in paper['keyword_pre']:\n",
    "    for keyword in keywords:\n",
    "        keyword_count_list.append(keyword)"
   ]
  },
  {
   "cell_type": "code",
   "execution_count": null,
   "metadata": {},
   "outputs": [],
   "source": [
    "#keyword_count_list"
   ]
  },
  {
   "cell_type": "code",
   "execution_count": null,
   "metadata": {
    "scrolled": true
   },
   "outputs": [],
   "source": [
    "counter = Counter(keyword_count_list)\n",
    "print(counter)"
   ]
  },
  {
   "cell_type": "code",
   "execution_count": null,
   "metadata": {
    "scrolled": true
   },
   "outputs": [],
   "source": [
    "# 상위 1990 --> 빈도 10개 이상\n",
    "print(counter.most_common(n=1990))"
   ]
  },
  {
   "cell_type": "markdown",
   "metadata": {},
   "source": [
    "# 10번 이상 등장한 키워드만 선별"
   ]
  },
  {
   "cell_type": "code",
   "execution_count": null,
   "metadata": {},
   "outputs": [],
   "source": [
    "keyword_count_10 = [] \n",
    "\n",
    "\n",
    "for i in tqdm(range(1990)):\n",
    "    name = counter.most_common(n=1990)[i][0]\n",
    "    keyword_count_10.append(name)"
   ]
  },
  {
   "cell_type": "code",
   "execution_count": null,
   "metadata": {},
   "outputs": [],
   "source": [
    "keyword_count_10"
   ]
  },
  {
   "cell_type": "code",
   "execution_count": null,
   "metadata": {},
   "outputs": [],
   "source": [
    "len(keyword_count_10)"
   ]
  },
  {
   "cell_type": "markdown",
   "metadata": {},
   "source": [
    "# 키워드 랜덤 추출(262개)"
   ]
  },
  {
   "cell_type": "code",
   "execution_count": null,
   "metadata": {},
   "outputs": [],
   "source": [
    "random_keyword1 = random.sample(keyword_count_10, 262)"
   ]
  },
  {
   "cell_type": "code",
   "execution_count": null,
   "metadata": {
    "scrolled": true
   },
   "outputs": [],
   "source": [
    "random_keyword1"
   ]
  },
  {
   "cell_type": "code",
   "execution_count": null,
   "metadata": {},
   "outputs": [],
   "source": [
    "len(random_keyword1)"
   ]
  },
  {
   "cell_type": "code",
   "execution_count": null,
   "metadata": {},
   "outputs": [],
   "source": [
    "#paper['keyword_pre'][0]"
   ]
  },
  {
   "cell_type": "code",
   "execution_count": null,
   "metadata": {},
   "outputs": [],
   "source": [
    "paper['keyword_count'] = pd.Series()\n",
    "\n",
    "\n",
    "for i, keywords in tqdm(enumerate(paper['keyword_pre'])):\n",
    "    keywords_list = []\n",
    "    for keyword in keywords:\n",
    "        if keyword in random_keyword1:\n",
    "            keywords_list.append(keyword)\n",
    "    #print(keywords_list)\n",
    "    if len(keywords_list) == 0:\n",
    "        paper.keyword_count[i] = 0\n",
    "    else:\n",
    "        paper.keyword_count[i] = keywords_list"
   ]
  },
  {
   "cell_type": "code",
   "execution_count": null,
   "metadata": {
    "scrolled": true
   },
   "outputs": [],
   "source": [
    "#paper"
   ]
  },
  {
   "cell_type": "code",
   "execution_count": null,
   "metadata": {},
   "outputs": [],
   "source": [
    "#paper['keyword_pre'][107]"
   ]
  },
  {
   "cell_type": "code",
   "execution_count": null,
   "metadata": {},
   "outputs": [],
   "source": [
    "#paper['keyword_count'][107]"
   ]
  },
  {
   "cell_type": "markdown",
   "metadata": {},
   "source": [
    "## 키워드 랜덤 추출"
   ]
  },
  {
   "cell_type": "code",
   "execution_count": null,
   "metadata": {},
   "outputs": [],
   "source": [
    "random_keyword2 = random.sample(keyword_count_10, 262)"
   ]
  },
  {
   "cell_type": "code",
   "execution_count": null,
   "metadata": {
    "scrolled": true
   },
   "outputs": [],
   "source": [
    "random_keyword2"
   ]
  },
  {
   "cell_type": "code",
   "execution_count": null,
   "metadata": {},
   "outputs": [],
   "source": [
    "len(random_keyword2)"
   ]
  },
  {
   "cell_type": "code",
   "execution_count": null,
   "metadata": {},
   "outputs": [],
   "source": [
    "#paper['keyword_pre'][0]"
   ]
  },
  {
   "cell_type": "code",
   "execution_count": null,
   "metadata": {
    "scrolled": true
   },
   "outputs": [],
   "source": [
    "paper['keyword_count'] = pd.Series()\n",
    "\n",
    "\n",
    "for i, keywords in tqdm(enumerate(paper['keyword_pre'])):\n",
    "    keywords_list = []\n",
    "    for keyword in keywords:\n",
    "        if keyword in random_keyword2:\n",
    "            keywords_list.append(keyword)\n",
    "    #print(keywords_list)\n",
    "    if len(keywords_list) == 0:\n",
    "        paper.keyword_count[i] = 0\n",
    "    else:\n",
    "        paper.keyword_count[i] = keywords_list"
   ]
  },
  {
   "cell_type": "markdown",
   "metadata": {},
   "source": [
    "## 키워드 랜덤 추출"
   ]
  },
  {
   "cell_type": "code",
   "execution_count": null,
   "metadata": {},
   "outputs": [],
   "source": [
    "random_keyword3 = random.sample(keyword_count_10, 262)"
   ]
  },
  {
   "cell_type": "code",
   "execution_count": null,
   "metadata": {
    "scrolled": true
   },
   "outputs": [],
   "source": [
    "random_keyword3"
   ]
  },
  {
   "cell_type": "code",
   "execution_count": null,
   "metadata": {},
   "outputs": [],
   "source": [
    "len(random_keyword3)"
   ]
  },
  {
   "cell_type": "code",
   "execution_count": null,
   "metadata": {},
   "outputs": [],
   "source": [
    "#paper['keyword_pre'][0]"
   ]
  },
  {
   "cell_type": "code",
   "execution_count": null,
   "metadata": {
    "scrolled": true
   },
   "outputs": [],
   "source": [
    "paper['keyword_count'] = pd.Series()\n",
    "\n",
    "\n",
    "for i, keywords in tqdm(enumerate(paper['keyword_pre'])):\n",
    "    keywords_list = []\n",
    "    for keyword in keywords:\n",
    "        if keyword in random_keyword3:\n",
    "            keywords_list.append(keyword)\n",
    "    #print(keywords_list)\n",
    "    if len(keywords_list) == 0:\n",
    "        paper.keyword_count[i] = 0\n",
    "    else:\n",
    "        paper.keyword_count[i] = keywords_list"
   ]
  },
  {
   "cell_type": "markdown",
   "metadata": {},
   "source": [
    "# 초록 당 키워드 개수 확인"
   ]
  },
  {
   "cell_type": "code",
   "execution_count": null,
   "metadata": {},
   "outputs": [],
   "source": [
    "paper['count_per_abst'] = pd.Series()\n",
    "\n",
    "paper['count_per_abst'] = paper['keyword_count'].apply(lambda x : x if x == 0 else len(x))"
   ]
  },
  {
   "cell_type": "code",
   "execution_count": null,
   "metadata": {
    "scrolled": true
   },
   "outputs": [],
   "source": [
    "#paper"
   ]
  },
  {
   "cell_type": "code",
   "execution_count": null,
   "metadata": {},
   "outputs": [],
   "source": [
    "keyword_0 = pd.DataFrame()\n",
    "\n",
    "\n",
    "for i, cnt in tqdm(enumerate(paper['count_per_abst'])):\n",
    "    if cnt != 0:\n",
    "        keyword_0 = pd.concat([keyword_0, paper[paper.index == i]], axis = 0)"
   ]
  },
  {
   "cell_type": "code",
   "execution_count": null,
   "metadata": {
    "scrolled": true
   },
   "outputs": [],
   "source": [
    "#keyword_0"
   ]
  },
  {
   "cell_type": "code",
   "execution_count": null,
   "metadata": {
    "scrolled": true
   },
   "outputs": [],
   "source": [
    "keyword_0 = keyword_0.reset_index(drop=True)\n",
    "keyword_0"
   ]
  },
  {
   "cell_type": "markdown",
   "metadata": {},
   "source": [
    "# 2000건 추출"
   ]
  },
  {
   "cell_type": "code",
   "execution_count": null,
   "metadata": {
    "scrolled": true
   },
   "outputs": [],
   "source": [
    "\"\"\"paper_2000 = keyword_0.sample(n=2000, random_state=42)\n",
    "paper_2000\"\"\""
   ]
  },
  {
   "cell_type": "markdown",
   "metadata": {},
   "source": [
    "# 데이터 저장"
   ]
  },
  {
   "cell_type": "code",
   "execution_count": null,
   "metadata": {
    "scrolled": true
   },
   "outputs": [],
   "source": [
    "preprocessed_paper = keyword_0.drop(['keyword_kor', 'keyword_pre'], axis = 1)\n",
    "preprocessed_paper"
   ]
  },
  {
   "cell_type": "code",
   "execution_count": null,
   "metadata": {},
   "outputs": [],
   "source": [
    "#preprocessed_paper.to_csv('./preprocessed_paper_1.csv')\n",
    "preprocessed_paper.to_excel('./preprocessed_paper_10_all_random_262.xlsx')"
   ]
  },
  {
   "cell_type": "code",
   "execution_count": null,
   "metadata": {},
   "outputs": [],
   "source": [
    "preprocessed_paper.describe()"
   ]
  },
  {
   "cell_type": "code",
   "execution_count": null,
   "metadata": {},
   "outputs": [],
   "source": [
    "#preprocessed_paper['keyword_count'][88]"
   ]
  },
  {
   "cell_type": "markdown",
   "metadata": {},
   "source": [
    "# 최종 키워드 저장"
   ]
  },
  {
   "cell_type": "code",
   "execution_count": null,
   "metadata": {},
   "outputs": [],
   "source": [
    "keyword_list = []\n",
    "\n",
    "for keywords in preprocessed_paper['keyword_count']:\n",
    "    for keyword in keywords:\n",
    "        keyword_list.append(keyword)"
   ]
  },
  {
   "cell_type": "code",
   "execution_count": null,
   "metadata": {},
   "outputs": [],
   "source": [
    "#keyword_list"
   ]
  },
  {
   "cell_type": "code",
   "execution_count": null,
   "metadata": {},
   "outputs": [],
   "source": [
    "len(keyword_list)"
   ]
  },
  {
   "cell_type": "code",
   "execution_count": null,
   "metadata": {},
   "outputs": [],
   "source": [
    "final_keyword_list = []\n",
    "\n",
    "\n",
    "for keyword in keyword_list:\n",
    "    if keyword not in final_keyword_list:\n",
    "        final_keyword_list.append(keyword)"
   ]
  },
  {
   "cell_type": "code",
   "execution_count": null,
   "metadata": {},
   "outputs": [],
   "source": [
    "len(final_keyword_list)"
   ]
  },
  {
   "cell_type": "code",
   "execution_count": null,
   "metadata": {},
   "outputs": [],
   "source": [
    "with open('./keyword_count_10_all_random_262.txt', 'w', -1, 'utf-8') as f:\n",
    "    for keyword in final_keyword_list:\n",
    "        f.write(keyword)\n",
    "        f.write(', ')"
   ]
  },
  {
   "cell_type": "code",
   "execution_count": null,
   "metadata": {},
   "outputs": [],
   "source": []
  }
 ],
 "metadata": {
  "kernelspec": {
   "display_name": "Python 3",
   "language": "python",
   "name": "python3"
  },
  "language_info": {
   "codemirror_mode": {
    "name": "ipython",
    "version": 3
   },
   "file_extension": ".py",
   "mimetype": "text/x-python",
   "name": "python",
   "nbconvert_exporter": "python",
   "pygments_lexer": "ipython3",
   "version": "3.8.5"
  }
 },
 "nbformat": 4,
 "nbformat_minor": 2
}
